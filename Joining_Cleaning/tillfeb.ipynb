{
 "cells": [
  {
   "cell_type": "code",
   "execution_count": 2,
   "metadata": {},
   "outputs": [
    {
     "name": "stdout",
     "output_type": "stream",
     "text": [
      "2019-01-20 00:00:00\n"
     ]
    },
    {
     "data": {
      "text/plain": [
       "Timestamp('2019-02-02 00:00:00')"
      ]
     },
     "execution_count": 2,
     "metadata": {},
     "output_type": "execute_result"
    }
   ],
   "source": [
    "print(max(tilljan2.date))\n",
    "max(february.date)"
   ]
  },
  {
   "cell_type": "code",
   "execution_count": 3,
   "metadata": {},
   "outputs": [
    {
     "name": "stdout",
     "output_type": "stream",
     "text": [
      "No     32035\n",
      "Yes    13536\n",
      "Name: sold, dtype: int64\n"
     ]
    }
   ],
   "source": [
    "from glob import glob\n",
    "import pandas as pd\n",
    "import numpy as np\n",
    "import re\n",
    "import time\n",
    "#from translate import Translator\n",
    "from collections import Counter\n",
    "tilljan2=pd.read_csv(\"tilljan2.csv.\")\n",
    "february=pd.read_csv(\"february.csv\",parse_dates=['date'])\n",
    "tilljan2.date=pd.to_datetime(tilljan2.date)\n",
    "february.drop(columns=[\"Wheels\",\"Version\"],inplace=True)\n",
    "february=february[february['date']>='2019-01-07'].reset_index(drop=True)\n",
    "february=february.sort_values(by='date')\n",
    "february.reset_index(drop=True,inplace=True)\n",
    "february.drop_duplicates(subset=[\"id_val\",\"brand\",\"model\"],keep=\"first\",inplace=True)\n",
    "february.reset_index(drop=True,inplace=True)\n",
    "ls=tilljan2[(tilljan2.sold==\"No\")&(tilljan2.date>='2019-01-07')].id_val.tolist()\n",
    "z=[\"No\" if i  in february.id_val.tolist() else  \"Yes\" for i in ls]\n",
    "tilljan2.loc[(tilljan2.sold==\"No\")&(tilljan2.date>='2019-01-07'),\"sold\"]=z\n",
    "february['sold']='No'\n",
    "data=pd.concat([tilljan2,february],ignore_index=True).reset_index(drop=True)\n",
    "data=data.sort_values(by='date')\n",
    "data.reset_index(drop=True,inplace=True)\n",
    "data.drop_duplicates(subset=[\"id_val\",\"brand\",\"model\"],keep=\"first\",inplace=True)\n",
    "data.reset_index(drop=True,inplace=True)\n",
    "data.Horsepower=pd.to_numeric(data.Horsepower, errors='coerce')\n",
    "data=data.sort_values(by='date')\n",
    "data.reset_index(drop=True,inplace=True)\n",
    "print(data.sold.value_counts())\n",
    "data.to_csv(\"tillfebruary1.csv\",index_label=False)"
   ]
  },
  {
   "cell_type": "code",
   "execution_count": 14,
   "metadata": {},
   "outputs": [
    {
     "data": {
      "text/plain": [
       "0.295861493899763"
      ]
     },
     "execution_count": 14,
     "metadata": {},
     "output_type": "execute_result"
    }
   ],
   "source": [
    "13483/(32089+13483)"
   ]
  },
  {
   "cell_type": "code",
   "execution_count": null,
   "metadata": {},
   "outputs": [],
   "source": []
  }
 ],
 "metadata": {
  "kernelspec": {
   "display_name": "Python 3",
   "language": "python",
   "name": "python3"
  },
  "language_info": {
   "codemirror_mode": {
    "name": "ipython",
    "version": 3
   },
   "file_extension": ".py",
   "mimetype": "text/x-python",
   "name": "python",
   "nbconvert_exporter": "python",
   "pygments_lexer": "ipython3",
   "version": "3.7.1"
  }
 },
 "nbformat": 4,
 "nbformat_minor": 2
}
