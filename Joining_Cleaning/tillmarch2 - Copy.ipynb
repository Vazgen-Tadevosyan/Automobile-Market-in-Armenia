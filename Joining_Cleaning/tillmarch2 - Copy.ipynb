{
 "cells": [
  {
   "cell_type": "code",
   "execution_count": 10,
   "metadata": {},
   "outputs": [
    {
     "name": "stdout",
     "output_type": "stream",
     "text": [
      "2019-03-04 00:00:00\n"
     ]
    },
    {
     "data": {
      "text/plain": [
       "Timestamp('2019-03-18 00:00:00')"
      ]
     },
     "execution_count": 10,
     "metadata": {},
     "output_type": "execute_result"
    }
   ],
   "source": [
    "print(max(tillmarch1.date))\n",
    "max(march1.date)"
   ]
  },
  {
   "cell_type": "code",
   "execution_count": 3,
   "metadata": {},
   "outputs": [
    {
     "name": "stdout",
     "output_type": "stream",
     "text": [
      "No     42335\n",
      "Yes    19152\n",
      "Name: sold, dtype: int64\n"
     ]
    }
   ],
   "source": [
    "from glob import glob\n",
    "import pandas as pd\n",
    "import numpy as np\n",
    "import re\n",
    "import time\n",
    "#from translate import Translator\n",
    "from collections import Counter\n",
    "tillmarch1=pd.read_csv(\"tillmarch1.csv.\")\n",
    "march1=pd.read_csv(\"march2.csv\",parse_dates=['date'])\n",
    "tillmarch1.date=pd.to_datetime(tillmarch1.date)\n",
    "march1.drop(columns=[\"Wheels\",\"Version\"],inplace=True)\n",
    "march1=march1[march1['date']>='2019-02-17'].reset_index(drop=True)\n",
    "march1=march1.sort_values(by='date')\n",
    "march1.reset_index(drop=True,inplace=True)\n",
    "march1.drop_duplicates(subset=[\"id_val\",\"brand\",\"model\"],keep=\"first\",inplace=True)\n",
    "march1.reset_index(drop=True,inplace=True)\n",
    "ls=tillmarch1[(tillmarch1.sold==\"No\")&(tillmarch1.date>='2019-02-17')].id_val.tolist()\n",
    "z=[\"No\" if i  in march1.id_val.tolist() else  \"Yes\" for i in ls]\n",
    "tillmarch1.loc[(tillmarch1.sold==\"No\")&(tillmarch1.date>='2019-02-17'),\"sold\"]=z\n",
    "march1['sold']='No'\n",
    "data=pd.concat([tillmarch1,march1],ignore_index=True).reset_index(drop=True)\n",
    "data=data.sort_values(by='date')\n",
    "data.reset_index(drop=True,inplace=True)\n",
    "data.drop_duplicates(subset=[\"id_val\",\"brand\",\"model\"],keep=\"first\",inplace=True)\n",
    "data.reset_index(drop=True,inplace=True)\n",
    "data.Horsepower=pd.to_numeric(data.Horsepower, errors='coerce')\n",
    "data=data.sort_values(by='date')\n",
    "data.reset_index(drop=True,inplace=True)\n",
    "print(data.sold.value_counts())\n",
    "data.to_csv(\"tillmarch2.csv\",index_label=False)"
   ]
  },
  {
   "cell_type": "code",
   "execution_count": 4,
   "metadata": {},
   "outputs": [
    {
     "data": {
      "text/plain": [
       "0.31148047554767677"
      ]
     },
     "execution_count": 4,
     "metadata": {},
     "output_type": "execute_result"
    }
   ],
   "source": [
    "19152/(19152+42335)"
   ]
  },
  {
   "cell_type": "code",
   "execution_count": null,
   "metadata": {},
   "outputs": [],
   "source": []
  }
 ],
 "metadata": {
  "kernelspec": {
   "display_name": "Python 3",
   "language": "python",
   "name": "python3"
  },
  "language_info": {
   "codemirror_mode": {
    "name": "ipython",
    "version": 3
   },
   "file_extension": ".py",
   "mimetype": "text/x-python",
   "name": "python",
   "nbconvert_exporter": "python",
   "pygments_lexer": "ipython3",
   "version": "3.7.1"
  }
 },
 "nbformat": 4,
 "nbformat_minor": 2
}
