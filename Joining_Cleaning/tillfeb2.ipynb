{
 "cells": [
  {
   "cell_type": "code",
   "execution_count": 14,
   "metadata": {},
   "outputs": [
    {
     "name": "stdout",
     "output_type": "stream",
     "text": [
      "2019-02-02 00:00:00\n"
     ]
    },
    {
     "data": {
      "text/plain": [
       "Timestamp('2019-02-17 00:00:00')"
      ]
     },
     "execution_count": 14,
     "metadata": {},
     "output_type": "execute_result"
    }
   ],
   "source": [
    "print(max(tillfebruary1.date))\n",
    "max(february2.date)"
   ]
  },
  {
   "cell_type": "code",
   "execution_count": 3,
   "metadata": {},
   "outputs": [
    {
     "name": "stdout",
     "output_type": "stream",
     "text": [
      "No     35813\n",
      "Yes    15360\n",
      "Name: sold, dtype: int64\n"
     ]
    }
   ],
   "source": [
    "from glob import glob\n",
    "import pandas as pd\n",
    "import numpy as np\n",
    "import re\n",
    "import time\n",
    "#from translate import Translator\n",
    "from collections import Counter\n",
    "tillfebruary1=pd.read_csv(\"tillfebruary1.csv.\")\n",
    "february2=pd.read_csv(\"february2.csv\",parse_dates=['date'])\n",
    "tillfebruary1.date=pd.to_datetime(tillfebruary1.date)\n",
    "february2.drop(columns=[\"Wheels\",\"Version\"],inplace=True)\n",
    "february2=february2[february2['date']>='2019-01-21'].reset_index(drop=True)\n",
    "february2=february2.sort_values(by='date')\n",
    "february2.reset_index(drop=True,inplace=True)\n",
    "february2.drop_duplicates(subset=[\"id_val\",\"brand\",\"model\"],keep=\"first\",inplace=True)\n",
    "february2.reset_index(drop=True,inplace=True)\n",
    "ls=tillfebruary1[(tillfebruary1.sold==\"No\")&(tillfebruary1.date>='2019-01-21')].id_val.tolist()\n",
    "z=[\"No\" if i  in february2.id_val.tolist() else  \"Yes\" for i in ls]\n",
    "tillfebruary1.loc[(tillfebruary1.sold==\"No\")&(tillfebruary1.date>='2019-01-21'),\"sold\"]=z\n",
    "february2['sold']='No'\n",
    "data=pd.concat([tillfebruary1,february2],ignore_index=True).reset_index(drop=True)\n",
    "data=data.sort_values(by='date')\n",
    "data.reset_index(drop=True,inplace=True)\n",
    "data.drop_duplicates(subset=[\"id_val\",\"brand\",\"model\"],keep=\"first\",inplace=True)\n",
    "data.reset_index(drop=True,inplace=True)\n",
    "data.Horsepower=pd.to_numeric(data.Horsepower, errors='coerce')\n",
    "data=data.sort_values(by='date')\n",
    "data.reset_index(drop=True,inplace=True)\n",
    "print(data.sold.value_counts())\n",
    "data.to_csv(\"tillfebruary2.csv\",index_label=False)"
   ]
  },
  {
   "cell_type": "code",
   "execution_count": 11,
   "metadata": {},
   "outputs": [
    {
     "data": {
      "text/plain": [
       "0.3227041065396106"
      ]
     },
     "execution_count": 11,
     "metadata": {},
     "output_type": "execute_result"
    }
   ],
   "source": []
  },
  {
   "cell_type": "code",
   "execution_count": null,
   "metadata": {},
   "outputs": [],
   "source": []
  }
 ],
 "metadata": {
  "kernelspec": {
   "display_name": "Python 3",
   "language": "python",
   "name": "python3"
  },
  "language_info": {
   "codemirror_mode": {
    "name": "ipython",
    "version": 3
   },
   "file_extension": ".py",
   "mimetype": "text/x-python",
   "name": "python",
   "nbconvert_exporter": "python",
   "pygments_lexer": "ipython3",
   "version": "3.7.1"
  }
 },
 "nbformat": 4,
 "nbformat_minor": 2
}
