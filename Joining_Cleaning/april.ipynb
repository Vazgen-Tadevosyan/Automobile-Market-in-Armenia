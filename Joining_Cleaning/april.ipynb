{
 "cells": [
  {
   "cell_type": "code",
   "execution_count": 15,
   "metadata": {},
   "outputs": [],
   "source": [
    "from glob import glob\n",
    "import pandas as pd\n",
    "import numpy as np\n",
    "import re\n",
    "import time\n"
   ]
  },
  {
   "cell_type": "code",
   "execution_count": 16,
   "metadata": {},
   "outputs": [],
   "source": [
    "\n",
    "#putting all 5 dfs into one list and dropping rows where all values are NA\n",
    "allFiles =glob(\"apr*.csv\")\n",
    "ls=[]\n",
    "frame = pd.DataFrame()"
   ]
  },
  {
   "cell_type": "code",
   "execution_count": 17,
   "metadata": {},
   "outputs": [],
   "source": [
    "for i in allFiles:\n",
    "    ls.append(pd.read_csv(i,index_col=None))"
   ]
  },
  {
   "cell_type": "code",
   "execution_count": 18,
   "metadata": {},
   "outputs": [],
   "source": [
    "sep=pd.concat(ls)"
   ]
  },
  {
   "cell_type": "code",
   "execution_count": 19,
   "metadata": {},
   "outputs": [],
   "source": [
    "sep=sep.loc[:, sep.columns != 'Unnamed: 0']"
   ]
  },
  {
   "cell_type": "code",
   "execution_count": 20,
   "metadata": {},
   "outputs": [
    {
     "data": {
      "text/plain": [
       "Index(['brand', 'date', 'id_val', 'model', 'price', 'year', 'Անվահեծերը',\n",
       "       'Գույնը', 'Դռների քանակը', 'Թափքը', 'Ձիաուժը', 'Ղեկը',\n",
       "       'Մխոցների քանակը', 'Մոդիֆիկացիան', 'Շարժիչը', 'Շարժիչի ծավալը',\n",
       "       'Սրահի գույնը', 'Վազքը', 'Փոխանցման տուփը', 'Քարշակը'],\n",
       "      dtype='object')"
      ]
     },
     "execution_count": 20,
     "metadata": {},
     "output_type": "execute_result"
    }
   ],
   "source": [
    "sep.columns"
   ]
  },
  {
   "cell_type": "code",
   "execution_count": 21,
   "metadata": {},
   "outputs": [],
   "source": [
    "new_columns=['brand', 'date', 'id_val', 'model', 'price', 'year', 'Wheels',\n",
    "       'Color', 'Door_Count', 'Body_Style', 'Horsepower', 'Hand_Drive',\n",
    "       'Engine_Cylinders', 'Version', 'Engine', 'Engine_Volume',\n",
    "       'Interior_Color', 'Mileage', 'Gearbox', 'Drive_train']"
   ]
  },
  {
   "cell_type": "code",
   "execution_count": 22,
   "metadata": {},
   "outputs": [],
   "source": [
    "sep.columns=new_columns"
   ]
  },
  {
   "cell_type": "code",
   "execution_count": 23,
   "metadata": {},
   "outputs": [],
   "source": [
    "sep[\"date\"]=sep.date.apply(lambda x:re.findall(\"[\\d\\.]+\",x)[0])\n",
    "sep['date']=pd.to_datetime(sep['date'])"
   ]
  },
  {
   "cell_type": "code",
   "execution_count": 24,
   "metadata": {
    "scrolled": true
   },
   "outputs": [],
   "source": [
    "Body_Styles=sep.Body_Style.value_counts().index\n",
    "colors=sep.Color.value_counts().index\n",
    "Hand_Drive=sep.Hand_Drive.value_counts().index\n",
    "engine=sep.Engine.value_counts().index\n",
    "inter=sep.Interior_Color.value_counts().index\n",
    "Gearbox=sep.Gearbox.value_counts().index.tolist()\n",
    "Drive=sep.Drive_train.value_counts().index"
   ]
  },
  {
   "cell_type": "code",
   "execution_count": 25,
   "metadata": {},
   "outputs": [],
   "source": [
    "dct_body={k:translator.translate(k) for k in Body_Styles}\n",
    "dct_col={k:translator.translate(k) for k in colors}\n",
    "dct_hand={k:translator.translate(k) for k in Hand_Drive}\n",
    "dct_eng={k:translator.translate(k) for k in engine}\n",
    "dct_inter={k:translator.translate(k) for k in inter}\n",
    "dct_Gearbox={k:translator.translate(k) for k in Gearbox}\n",
    "dct_Drive={k:translator.translate(k) for k in Drive}"
   ]
  },
  {
   "cell_type": "code",
   "execution_count": 26,
   "metadata": {},
   "outputs": [],
   "source": [
    "sep.replace({\"Body_Style\": dct_body,\"Color\":dct_col,\"Hand_Drive\":dct_hand,\"Engine\":dct_eng,\"Interior_Color\":dct_inter,\n",
    "            \"Gearbox\":dct_Gearbox,\"Drive_train\":dct_Drive},inplace=True)"
   ]
  },
  {
   "cell_type": "code",
   "execution_count": 27,
   "metadata": {},
   "outputs": [],
   "source": [
    "def clean_price(x):\n",
    "    if x.endswith(\"$\"):\n",
    "        x=float(re.findall('[\\d]+',x)[0]+re.findall('[\\d]+',x)[1])\n",
    "    elif x.endswith(\"֏\"):\n",
    "        x=float(re.findall('[\\d]+',x)[0]+re.findall('[\\d]+',x)[1])/485\n",
    "    else:\n",
    "        x=float(re.findall('[\\d]+',x)[0]+re.findall('[\\d]+',x)[1])*1.13\n",
    "    return x"
   ]
  },
  {
   "cell_type": "code",
   "execution_count": 28,
   "metadata": {},
   "outputs": [],
   "source": [
    "sep['price']=sep['price'].apply(clean_price)\n",
    "sep.Wheels=sep.Wheels.apply(lambda x:re.findall(\"[\\d]+\",x)[0] if pd.notnull(x) else x)\n",
    "sep.drop(columns=\"Door_Count\",inplace=True)\n",
    "sep.Horsepower=sep.Horsepower.apply(lambda x:float(x) if str(x).isdigit() else x)\n",
    "sep.Mileage=sep.Mileage.apply(lambda x: float(re.findall(\"[\\d]+\",x)[0]))"
   ]
  },
  {
   "cell_type": "code",
   "execution_count": 29,
   "metadata": {
    "collapsed": true
   },
   "outputs": [
    {
     "name": "stdout",
     "output_type": "stream",
     "text": [
      "<class 'pandas.core.frame.DataFrame'>\n",
      "RangeIndex: 18241 entries, 0 to 18240\n",
      "Data columns (total 19 columns):\n",
      "brand               18241 non-null object\n",
      "date                18241 non-null datetime64[ns]\n",
      "id_val              18241 non-null object\n",
      "model               18241 non-null object\n",
      "price               18241 non-null float64\n",
      "year                18241 non-null int64\n",
      "Wheels              4566 non-null float64\n",
      "Color               18240 non-null object\n",
      "Body_Style          18240 non-null object\n",
      "Horsepower          4198 non-null object\n",
      "Hand_Drive          18240 non-null object\n",
      "Engine_Cylinders    4121 non-null float64\n",
      "Version             9833 non-null object\n",
      "Engine              18240 non-null object\n",
      "Engine_Volume       5633 non-null float64\n",
      "Interior_Color      5027 non-null object\n",
      "Mileage             18241 non-null float64\n",
      "Gearbox             18240 non-null object\n",
      "Drive_train         5074 non-null object\n",
      "dtypes: datetime64[ns](1), float64(5), int64(1), object(12)\n",
      "memory usage: 2.6+ MB\n"
     ]
    }
   ],
   "source": [
    "sep.to_csv(\"april.csv\",index=False)\n",
    "sep=pd.read_csv(\"april.csv\", parse_dates=['date'])\n",
    "sep.info()"
   ]
  },
  {
   "cell_type": "code",
   "execution_count": 1,
   "metadata": {},
   "outputs": [],
   "source": [
    "from translate import Translator\n",
    "translator= Translator(to_lang=\"en\",from_lang=\"hy\")"
   ]
  },
  {
   "cell_type": "code",
   "execution_count": 4,
   "metadata": {},
   "outputs": [
    {
     "data": {
      "text/plain": [
       "'Astragalus'"
      ]
     },
     "execution_count": 4,
     "metadata": {},
     "output_type": "execute_result"
    }
   ],
   "source": [
    "translator.translate(\"Գազ\")"
   ]
  }
 ],
 "metadata": {
  "kernelspec": {
   "display_name": "Python 3",
   "language": "python",
   "name": "python3"
  },
  "language_info": {
   "codemirror_mode": {
    "name": "ipython",
    "version": 3
   },
   "file_extension": ".py",
   "mimetype": "text/x-python",
   "name": "python",
   "nbconvert_exporter": "python",
   "pygments_lexer": "ipython3",
   "version": "3.7.1"
  }
 },
 "nbformat": 4,
 "nbformat_minor": 2
}
