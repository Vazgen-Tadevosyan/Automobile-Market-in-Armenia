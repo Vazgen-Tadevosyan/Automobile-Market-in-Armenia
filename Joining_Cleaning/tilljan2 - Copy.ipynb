{
 "cells": [
  {
   "cell_type": "code",
   "execution_count": 2,
   "metadata": {},
   "outputs": [
    {
     "name": "stdout",
     "output_type": "stream",
     "text": [
      "2019-01-07 00:00:00\n"
     ]
    },
    {
     "data": {
      "text/plain": [
       "Timestamp('2019-01-20 00:00:00')"
      ]
     },
     "execution_count": 2,
     "metadata": {},
     "output_type": "execute_result"
    }
   ],
   "source": [
    "print(max(tilljan1.date))\n",
    "max(januray2.date)"
   ]
  },
  {
   "cell_type": "code",
   "execution_count": 6,
   "metadata": {},
   "outputs": [
    {
     "name": "stdout",
     "output_type": "stream",
     "text": [
      "No     28558\n",
      "Yes    11920\n",
      "Name: sold, dtype: int64\n"
     ]
    }
   ],
   "source": [
    "from glob import glob\n",
    "import pandas as pd\n",
    "import numpy as np\n",
    "import re\n",
    "import time\n",
    "from translate import Translator\n",
    "from collections import Counter\n",
    "tilljan1=pd.read_csv(\"tilljan.csv.\")\n",
    "januray2=pd.read_csv(\"january2.csv\",parse_dates=['date'])\n",
    "tilljan1.date=pd.to_datetime(tilljan1.date)\n",
    "januray2.drop(columns=[\"Wheels\",\"Version\"],inplace=True)\n",
    "januray2=januray2[januray2['date']>='2018-12-19'].reset_index(drop=True)\n",
    "januray2=januray2.sort_values(by='date')\n",
    "januray2.reset_index(drop=True,inplace=True)\n",
    "januray2.drop_duplicates(subset=[\"id_val\",\"brand\",\"model\"],keep=\"first\",inplace=True)\n",
    "januray2.reset_index(drop=True,inplace=True)\n",
    "ls=tilljan1[(tilljan1.sold==\"No\")&(tilljan1.date>='2018-12-19')].id_val.tolist()\n",
    "z=[\"No\" if i  in januray2.id_val.tolist() else  \"Yes\" for i in ls]\n",
    "tilljan1.loc[(tilljan1.sold==\"No\")&(tilljan1.date>='2018-12-19'),\"sold\"]=z\n",
    "januray2['sold']='No'\n",
    "data=pd.concat([tilljan1,januray2],ignore_index=True).reset_index(drop=True)\n",
    "data=data.sort_values(by='date')\n",
    "data.reset_index(drop=True,inplace=True)\n",
    "data.drop_duplicates(subset=[\"id_val\",\"brand\",\"model\"],keep=\"first\",inplace=True)\n",
    "data.reset_index(drop=True,inplace=True)\n",
    "data.Horsepower=pd.to_numeric(data.Horsepower, errors='coerce')\n",
    "data=data.sort_values(by='date')\n",
    "data.reset_index(drop=True,inplace=True)\n",
    "print(data.sold.value_counts())\n",
    "data.to_csv(\"tilljan2.csv\",index_label=False)"
   ]
  },
  {
   "cell_type": "code",
   "execution_count": null,
   "metadata": {},
   "outputs": [],
   "source": []
  }
 ],
 "metadata": {
  "kernelspec": {
   "display_name": "Python 3",
   "language": "python",
   "name": "python3"
  },
  "language_info": {
   "codemirror_mode": {
    "name": "ipython",
    "version": 3
   },
   "file_extension": ".py",
   "mimetype": "text/x-python",
   "name": "python",
   "nbconvert_exporter": "python",
   "pygments_lexer": "ipython3",
   "version": "3.7.1"
  }
 },
 "nbformat": 4,
 "nbformat_minor": 2
}
