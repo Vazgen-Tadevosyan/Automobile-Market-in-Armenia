{
 "cells": [
  {
   "cell_type": "code",
   "execution_count": 10,
   "metadata": {
    "scrolled": true
   },
   "outputs": [
    {
     "name": "stdout",
     "output_type": "stream",
     "text": [
      "2018-10-24 00:00:00\n",
      "2018-11-25 00:00:00\n"
     ]
    },
    {
     "data": {
      "text/plain": [
       "Timestamp('2018-10-05 00:00:00')"
      ]
     },
     "execution_count": 10,
     "metadata": {},
     "output_type": "execute_result"
    }
   ],
   "source": [
    "print(max(tilloct.date))\n",
    "print(max(november.date))\n",
    "min(november.date)"
   ]
  },
  {
   "cell_type": "code",
   "execution_count": 13,
   "metadata": {},
   "outputs": [
    {
     "name": "stdout",
     "output_type": "stream",
     "text": [
      "No     18773\n",
      "Yes     5735\n",
      "Name: sold, dtype: int64\n"
     ]
    }
   ],
   "source": [
    "from glob import glob\n",
    "import pandas as pd\n",
    "import numpy as np\n",
    "import re\n",
    "import time\n",
    "from translate import Translator\n",
    "from collections import Counter\n",
    "tilloct=pd.read_csv(\"tilloct.csv.\")\n",
    "november=pd.read_csv(\"november.csv\",parse_dates=['date'])\n",
    "tilloct.date=pd.to_datetime(tilloct.date)\n",
    "november.drop(columns=[\"Wheels\",\"Version\"],inplace=True)\n",
    "november=november[november['date']>='2018-10-05'].reset_index(drop=True)\n",
    "november=november.sort_values(by='date')\n",
    "november.reset_index(drop=True,inplace=True)\n",
    "november.drop_duplicates(subset=[\"id_val\",\"brand\",\"model\"],keep=\"first\",inplace=True)\n",
    "november.reset_index(drop=True,inplace=True)\n",
    "ls=tilloct[(tilloct.sold==\"No\")&(tilloct.date>='2018-10-05')].id_val.tolist()\n",
    "z=[\"No\" if i  in november.id_val.tolist() else  \"Yes\" for i in ls]\n",
    "tilloct.loc[(tilloct.sold==\"No\")&(tilloct.date>='2018-10-05'),\"sold\"]=z\n",
    "november['sold']='No'\n",
    "data=pd.concat([tilloct,november],ignore_index=True).reset_index(drop=True)\n",
    "data=data.sort_values(by='date')\n",
    "data.reset_index(drop=True,inplace=True)\n",
    "\n",
    "data.drop_duplicates(subset=[\"id_val\",\"brand\",\"model\"],keep=\"first\",inplace=True)\n",
    "data.reset_index(drop=True,inplace=True)\n",
    "\n",
    "data.Horsepower=pd.to_numeric(data.Horsepower, errors='coerce')\n",
    "data=data.sort_values(by='date')\n",
    "data.reset_index(drop=True,inplace=True)\n",
    "print(data.sold.value_counts())\n",
    "data.to_csv(\"tillnov.csv\",index_label=False)"
   ]
  },
  {
   "cell_type": "code",
   "execution_count": null,
   "metadata": {},
   "outputs": [],
   "source": []
  }
 ],
 "metadata": {
  "kernelspec": {
   "display_name": "Python 3",
   "language": "python",
   "name": "python3"
  },
  "language_info": {
   "codemirror_mode": {
    "name": "ipython",
    "version": 3
   },
   "file_extension": ".py",
   "mimetype": "text/x-python",
   "name": "python",
   "nbconvert_exporter": "python",
   "pygments_lexer": "ipython3",
   "version": "3.7.1"
  }
 },
 "nbformat": 4,
 "nbformat_minor": 2
}
