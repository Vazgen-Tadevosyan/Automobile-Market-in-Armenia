{
 "cells": [
  {
   "cell_type": "code",
   "execution_count": 1,
   "metadata": {},
   "outputs": [],
   "source": [
    "#modules\n",
    "import time\n",
    "import requests\n",
    "from pprint import pprint\n",
    "from bs4 import BeautifulSoup\n",
    "import numpy as np #for numeric operations\n",
    "import pandas as pd #for dealing with dataframes\n",
    "import matplotlib.pyplot as plt #for visualization\n",
    "import re\n",
    "import time\n",
    "from selenium import webdriver\n",
    "import re\n",
    "\n",
    "def get_info(url):    \n",
    "    response=requests.get(url)\n",
    "    page=response.content\n",
    "    page=BeautifulSoup(page, \"html.parser\")\n",
    "    id_val=page.find('a',class_='truncate bold active').get_text()\n",
    "    date=page.find(\"div\",class_=\"ad-options grey-text\").get_text()\n",
    "    brand=page.find(\"h1\",class_='bold').find_all('a')[2].get_text()\n",
    "    model=page.find(\"h1\",class_='bold').find_all('a')[3].get_text()\n",
    "    year=page.find(\"h1\",class_='bold').find_all('a')[1].get_text()\n",
    "    dic={\"id_val\":id_val,\"date\":date,\"brand\":brand,\"model\":model,\"year\":year}\n",
    "    table=pd.read_html(str(page))[0]\n",
    "    table=table.transpose()\n",
    "    table.columns = table.iloc[0]\n",
    "    table=table.drop(0).reset_index(drop=True)\n",
    "    table=table.assign(**dic)\n",
    "    table['price']=page.find(\"li\",class_='bold').get_text()\n",
    "    time.sleep(2)\n",
    "    return table\n",
    "\n",
    "new=[]\n",
    "for i in range(1,201):\n",
    "    category='http://auto.am/search/passenger-cars?q={\"category\":\"1\",\"page\":%s,\"sort\":\"latest\",\"layout\":\"complist\",\"user\":{\"dealer\":\"0\",\"id\":\"\"},\"make\":[\"246\",\"386\",\"276\",\"31\",\"156\",\"21\",\"26\",\"46\",\"56\"],\"year\":{\"gt\":\"2000\",\"lt\":\"2019\"},\"usdprice\":{\"gt\":\"1000\",\"lt\":\"100000\"},\"custcleared\":\"1\",\"mileage\":{\"gt\":\"10\",\"lt\":\"1000000\"},\"geo\":[\"12\"]}'%(i)\n",
    "    new.append(category)\n",
    "\n",
    "def page(url):\n",
    "    browser = webdriver.Chrome()\n",
    "    browser.get(url)\n",
    "    page=BeautifulSoup(browser.page_source,'html.parser')\n",
    "    links=[i.find(\"a\").get('href') for i in page.find('div',class_='complist').find_all('div', class_=\"card-content\")]\n",
    "    base=\"https://auto.am\"\n",
    "    df=[]\n",
    "    for  i in links:\n",
    "        try:\n",
    "            df.append(get_info(base+i))\n",
    "        except:\n",
    "            continue\n",
    "    df=pd.concat(df,ignore_index=True)\n",
    "    browser.close()\n",
    "    time.sleep(2)\n",
    "    return df\n",
    "\n",
    "\n",
    "\n",
    "df=[]\n",
    "for i in new:\n",
    "    try:\n",
    "        df.append(page(i))\n",
    "    except:\n",
    "        continue"
   ]
  },
  {
   "cell_type": "markdown",
   "metadata": {},
   "source": [
    "http://auto.am/search/passenger-cars?q={\"category\":\"1\",\"page\":\"1\",\"sort\":\"latest\",\"layout\":\"complist\",\"user\":{\"dealer\":\"0\",\"id\":\"\"},\"make\":[\"246\",\"386\",\"276\",\"31\",\"156\",\"21\",\"26\",\"46\",\"56\"],\"year\":{\"gt\":\"2000\",\"lt\":\"2019\"},\"usdprice\":{\"gt\":\"1000\",\"lt\":\"100000\"},\"custcleared\":\"1\",\"mileage\":{\"gt\":\"10\",\"lt\":\"1000000\"},\"geo\":[\"12\"]}"
   ]
  },
  {
   "cell_type": "code",
   "execution_count": null,
   "metadata": {},
   "outputs": [],
   "source": [
    "http://auto.am/search/passenger-cars?q={\"category\":\"1\",\"page\":\"1\",\"sort\":\"latest\",\"layout\":\"complist\",\"user\":{\"dealer\":\"0\",\"id\":\"\"},\"make\":[\"246\",\"386\",\"276\",\"31\",\"156\",\"21\",\"26\",\"46\",\"56\",\"61\",\"111\",\"116\",\"121\",\"146\",\"151\",\"166\",\"181\",\"186\",\"191\",\"206\",\"211\",\"231\",\"236\",\"241\",\"266\",\"281\",\"296\",\"301\",\"316\",\"361\",\"376\",\"381\",\"396\",\"401\",\"406\"],\"year\":{\"gt\":\"2000\",\"lt\":\"2019\"},\"usdprice\":{\"gt\":\"1000\",\"lt\":\"100000\"},\"custcleared\":\"1\",\"mileage\":{\"gt\":\"10\",\"lt\":\"1000000\"},\"geo\":[\"12\"]}"
   ]
  }
 ],
 "metadata": {
  "kernelspec": {
   "display_name": "Python 3",
   "language": "python",
   "name": "python3"
  },
  "language_info": {
   "codemirror_mode": {
    "name": "ipython",
    "version": 3
   },
   "file_extension": ".py",
   "mimetype": "text/x-python",
   "name": "python",
   "nbconvert_exporter": "python",
   "pygments_lexer": "ipython3",
   "version": "3.7.1"
  }
 },
 "nbformat": 4,
 "nbformat_minor": 2
}
