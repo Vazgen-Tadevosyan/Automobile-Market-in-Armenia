{
 "cells": [
  {
   "cell_type": "code",
   "execution_count": 131,
   "metadata": {},
   "outputs": [],
   "source": [
    "from glob import glob\n",
    "import pandas as pd\n",
    "import numpy as np\n",
    "import re\n",
    "import time\n",
    "from translate import Translator\n"
   ]
  },
  {
   "cell_type": "code",
   "execution_count": 152,
   "metadata": {},
   "outputs": [],
   "source": [
    "translator= Translator(to_lang=\"en\",from_lang=\"hy\")\n",
    "#putting all 5 dfs into one list and dropping rows where all values are NA\n",
    "allFiles =glob(\"oct*.csv\")\n",
    "ls=[]\n",
    "frame = pd.DataFrame()"
   ]
  },
  {
   "cell_type": "code",
   "execution_count": 161,
   "metadata": {},
   "outputs": [],
   "source": [
    "for i in allFiles:\n",
    "    ls.append(pd.read_csv(i,index_col=None))"
   ]
  },
  {
   "cell_type": "code",
   "execution_count": 162,
   "metadata": {},
   "outputs": [
    {
     "name": "stderr",
     "output_type": "stream",
     "text": [
      "C:\\ProgramData\\Anaconda3\\lib\\site-packages\\ipykernel_launcher.py:1: FutureWarning: Sorting because non-concatenation axis is not aligned. A future version\n",
      "of pandas will change to not sort by default.\n",
      "\n",
      "To accept the future behavior, pass 'sort=False'.\n",
      "\n",
      "To retain the current behavior and silence the warning, pass 'sort=True'.\n",
      "\n",
      "  \"\"\"Entry point for launching an IPython kernel.\n"
     ]
    }
   ],
   "source": [
    "sep=pd.concat(ls)"
   ]
  },
  {
   "cell_type": "code",
   "execution_count": 163,
   "metadata": {},
   "outputs": [],
   "source": [
    "sep=sep.loc[:, sep.columns != 'Unnamed: 0']"
   ]
  },
  {
   "cell_type": "code",
   "execution_count": 164,
   "metadata": {},
   "outputs": [
    {
     "data": {
      "text/plain": [
       "Index(['brand', 'date', 'id_val', 'model', 'price', 'year', 'Անվահեծերը',\n",
       "       'Գույնը', 'Դռների քանակը', 'Թափքը', 'Ձիաուժը', 'Ղեկը',\n",
       "       'Մխոցների քանակը', 'Մոդիֆիկացիան', 'Շարժիչը', 'Շարժիչի ծավալը',\n",
       "       'Սրահի գույնը', 'Վազքը', 'Փոխանցման տուփը', 'Քարշակը'],\n",
       "      dtype='object')"
      ]
     },
     "execution_count": 164,
     "metadata": {},
     "output_type": "execute_result"
    }
   ],
   "source": [
    "sep.columns"
   ]
  },
  {
   "cell_type": "code",
   "execution_count": 165,
   "metadata": {},
   "outputs": [],
   "source": [
    "new_columns=['brand', 'date', 'id_val', 'model', 'price', 'year', 'Wheels',\n",
    "       'Color', 'Door_Count', 'Body_Style', 'Horsepower', 'Hand_Drive',\n",
    "       'Engine_Cylinders', 'Version', 'Engine', 'Engine_Volume',\n",
    "       'Interior_Color', 'Mileage', 'Gearbox', 'Drive_train']"
   ]
  },
  {
   "cell_type": "code",
   "execution_count": 166,
   "metadata": {},
   "outputs": [],
   "source": [
    "sep.columns=new_columns"
   ]
  },
  {
   "cell_type": "code",
   "execution_count": 167,
   "metadata": {},
   "outputs": [],
   "source": [
    "sep[\"date\"]=sep.date.apply(lambda x:re.findall(\"[\\d\\.]+\",x)[0])\n",
    "sep['date']=pd.to_datetime(sep['date'])"
   ]
  },
  {
   "cell_type": "code",
   "execution_count": 168,
   "metadata": {
    "scrolled": true
   },
   "outputs": [],
   "source": [
    "Body_Styles=sep.Body_Style.value_counts().index\n",
    "colors=sep.Color.value_counts().index\n",
    "Hand_Drive=sep.Hand_Drive.value_counts().index\n",
    "engine=sep.Engine.value_counts().index\n",
    "inter=sep.Interior_Color.value_counts().index\n",
    "Gearbox=sep.Gearbox.value_counts().index.tolist()\n",
    "Drive=sep.Drive_train.value_counts().index"
   ]
  },
  {
   "cell_type": "code",
   "execution_count": 169,
   "metadata": {},
   "outputs": [],
   "source": [
    "dct_body={k:translator.translate(k) for k in Body_Styles}\n",
    "dct_col={k:translator.translate(k) for k in colors}\n",
    "dct_hand={k:translator.translate(k) for k in Hand_Drive}\n",
    "dct_eng={k:translator.translate(k) for k in engine}\n",
    "dct_inter={k:translator.translate(k) for k in inter}\n",
    "dct_Gearbox={k:translator.translate(k) for k in Gearbox}\n",
    "dct_Drive={k:translator.translate(k) for k in Drive}"
   ]
  },
  {
   "cell_type": "code",
   "execution_count": 170,
   "metadata": {},
   "outputs": [],
   "source": [
    "sep.replace({\"Body_Style\": dct_body,\"Color\":dct_col,\"Hand_Drive\":dct_hand,\"Engine\":dct_eng,\"Interior_Color\":dct_inter,\n",
    "            \"Gearbox\":dct_Gearbox,\"Drive_train\":dct_Drive},inplace=True)"
   ]
  },
  {
   "cell_type": "code",
   "execution_count": 171,
   "metadata": {},
   "outputs": [],
   "source": [
    "def clean_price(x):\n",
    "    if x.endswith(\"$\"):\n",
    "        x=float(re.findall('[\\d]+',x)[0]+re.findall('[\\d]+',x)[1])\n",
    "    elif x.endswith(\"֏\"):\n",
    "        x=float(re.findall('[\\d]+',x)[0]+re.findall('[\\d]+',x)[1])/485\n",
    "    else:\n",
    "        x=float(re.findall('[\\d]+',x)[0]+re.findall('[\\d]+',x)[1])*1.13\n",
    "    return x"
   ]
  },
  {
   "cell_type": "code",
   "execution_count": 172,
   "metadata": {},
   "outputs": [],
   "source": [
    "sep['price']=sep['price'].apply(clean_price)\n",
    "sep.Wheels=sep.Wheels.apply(lambda x:re.findall(\"[\\d]+\",x)[0] if pd.notnull(x) else x)\n",
    "sep.drop(columns=\"Door_Count\",inplace=True)\n",
    "sep.Horsepower=sep.Horsepower.apply(lambda x:float(x) if str(x).isdigit() else x)\n",
    "sep.Mileage=sep.Mileage.apply(lambda x: float(re.findall(\"[\\d]+\",x)[0]))"
   ]
  },
  {
   "cell_type": "code",
   "execution_count": 173,
   "metadata": {
    "scrolled": true
   },
   "outputs": [
    {
     "name": "stdout",
     "output_type": "stream",
     "text": [
      "<class 'pandas.core.frame.DataFrame'>\n",
      "RangeIndex: 36714 entries, 0 to 36713\n",
      "Data columns (total 19 columns):\n",
      "brand               36714 non-null object\n",
      "date                36714 non-null datetime64[ns]\n",
      "id_val              36714 non-null object\n",
      "model               36714 non-null object\n",
      "price               36714 non-null float64\n",
      "year                36714 non-null int64\n",
      "Wheels              9508 non-null float64\n",
      "Color               36714 non-null object\n",
      "Body_Style          36714 non-null object\n",
      "Horsepower          8890 non-null object\n",
      "Hand_Drive          36714 non-null object\n",
      "Engine_Cylinders    8634 non-null float64\n",
      "Version             18996 non-null object\n",
      "Engine              36714 non-null object\n",
      "Engine_Volume       11932 non-null float64\n",
      "Interior_Color      10680 non-null object\n",
      "Mileage             36714 non-null float64\n",
      "Gearbox             36714 non-null object\n",
      "Drive_train         10124 non-null object\n",
      "dtypes: datetime64[ns](1), float64(5), int64(1), object(12)\n",
      "memory usage: 5.3+ MB\n"
     ]
    }
   ],
   "source": [
    "sep.to_csv(\"October.csv\",index=False)\n",
    "sep=pd.read_csv(\"October.csv\", parse_dates=['date'])\n",
    "sep.info()"
   ]
  },
  {
   "cell_type": "code",
   "execution_count": null,
   "metadata": {},
   "outputs": [],
   "source": []
  }
 ],
 "metadata": {
  "kernelspec": {
   "display_name": "Python 3",
   "language": "python",
   "name": "python3"
  },
  "language_info": {
   "codemirror_mode": {
    "name": "ipython",
    "version": 3
   },
   "file_extension": ".py",
   "mimetype": "text/x-python",
   "name": "python",
   "nbconvert_exporter": "python",
   "pygments_lexer": "ipython3",
   "version": "3.7.1"
  }
 },
 "nbformat": 4,
 "nbformat_minor": 2
}
