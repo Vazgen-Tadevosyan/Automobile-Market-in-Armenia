{
 "cells": [
  {
   "cell_type": "code",
   "execution_count": 5,
   "metadata": {},
   "outputs": [
    {
     "name": "stdout",
     "output_type": "stream",
     "text": [
      "2019-03-18 00:00:00\n"
     ]
    },
    {
     "data": {
      "text/plain": [
       "Timestamp('2019-12-03 00:00:00')"
      ]
     },
     "execution_count": 5,
     "metadata": {},
     "output_type": "execute_result"
    }
   ],
   "source": [
    "print(max(tillapril.date))\n",
    "max(april.date)"
   ]
  },
  {
   "cell_type": "code",
   "execution_count": 4,
   "metadata": {},
   "outputs": [
    {
     "name": "stdout",
     "output_type": "stream",
     "text": [
      "No     47263\n",
      "Yes    19162\n",
      "Name: sold, dtype: int64\n"
     ]
    }
   ],
   "source": [
    "from glob import glob\n",
    "import pandas as pd\n",
    "import numpy as np\n",
    "import re\n",
    "import time\n",
    "#from translate import Translator\n",
    "from collections import Counter\n",
    "tillapril=pd.read_csv(\"tillmarch2.csv.\")\n",
    "april=pd.read_csv(\"april.csv\",parse_dates=['date'])\n",
    "tillapril.date=pd.to_datetime(tillapril.date)\n",
    "april.drop(columns=[\"Wheels\",\"Version\"],inplace=True)\n",
    "april=april[april['date']>='2019-03-18'].reset_index(drop=True)\n",
    "april=april.sort_values(by='date')\n",
    "april.reset_index(drop=True,inplace=True)\n",
    "april.drop_duplicates(subset=[\"id_val\",\"brand\",\"model\"],keep=\"first\",inplace=True)\n",
    "april.reset_index(drop=True,inplace=True)\n",
    "ls=tillapril[(tillapril.sold==\"No\")&(tillapril.date>='2019-03-18')].id_val.tolist()\n",
    "z=[\"No\" if i  in april.id_val.tolist() else  \"Yes\" for i in ls]\n",
    "tillapril.loc[(tillapril.sold==\"No\")&(tillapril.date>='2019-03-18'),\"sold\"]=z\n",
    "april['sold']='No'\n",
    "data=pd.concat([tillapril,april],ignore_index=True).reset_index(drop=True)\n",
    "data=data.sort_values(by='date')\n",
    "data.reset_index(drop=True,inplace=True)\n",
    "data.drop_duplicates(subset=[\"id_val\",\"brand\",\"model\"],keep=\"first\",inplace=True)\n",
    "data.reset_index(drop=True,inplace=True)\n",
    "data.Horsepower=pd.to_numeric(data.Horsepower, errors='coerce')\n",
    "data=data.sort_values(by='date')\n",
    "data.reset_index(drop=True,inplace=True)\n",
    "print(data.sold.value_counts())\n",
    "data.to_csv(\"final.csv\",index_label=False)"
   ]
  },
  {
   "cell_type": "code",
   "execution_count": 1,
   "metadata": {},
   "outputs": [],
   "source": [
    "from glob import glob\n",
    "import pandas as pd\n",
    "import numpy as np\n",
    "import re\n",
    "import time\n",
    "data=pd.read_csv(\"final.csv\")"
   ]
  },
  {
   "cell_type": "code",
   "execution_count": 2,
   "metadata": {},
   "outputs": [
    {
     "name": "stdout",
     "output_type": "stream",
     "text": [
      "<class 'pandas.core.frame.DataFrame'>\n",
      "Int64Index: 66425 entries, 0 to 66424\n",
      "Data columns (total 18 columns):\n",
      "brand               66425 non-null object\n",
      "date                66425 non-null object\n",
      "id_val              66425 non-null object\n",
      "model               66425 non-null object\n",
      "price               66425 non-null float64\n",
      "year                66425 non-null int64\n",
      "Color               66423 non-null object\n",
      "Body_Style          66423 non-null object\n",
      "Horsepower          14999 non-null float64\n",
      "Hand_Drive          66423 non-null object\n",
      "Engine_Cylinders    15807 non-null float64\n",
      "Engine              66423 non-null object\n",
      "Engine_Volume       21408 non-null float64\n",
      "Interior_Color      19393 non-null object\n",
      "Mileage             66425 non-null float64\n",
      "Gearbox             66423 non-null object\n",
      "Drive_train         18981 non-null object\n",
      "sold                66425 non-null object\n",
      "dtypes: float64(5), int64(1), object(12)\n",
      "memory usage: 9.6+ MB\n"
     ]
    }
   ],
   "source": [
    "data.info()"
   ]
  },
  {
   "cell_type": "code",
   "execution_count": null,
   "metadata": {},
   "outputs": [],
   "source": []
  }
 ],
 "metadata": {
  "kernelspec": {
   "display_name": "Python 3",
   "language": "python",
   "name": "python3"
  },
  "language_info": {
   "codemirror_mode": {
    "name": "ipython",
    "version": 3
   },
   "file_extension": ".py",
   "mimetype": "text/x-python",
   "name": "python",
   "nbconvert_exporter": "python",
   "pygments_lexer": "ipython3",
   "version": "3.7.1"
  }
 },
 "nbformat": 4,
 "nbformat_minor": 2
}
