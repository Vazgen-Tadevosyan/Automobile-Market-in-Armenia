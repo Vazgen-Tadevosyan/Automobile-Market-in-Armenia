{
 "cells": [
  {
   "cell_type": "code",
   "execution_count": 26,
   "metadata": {},
   "outputs": [
    {
     "name": "stdout",
     "output_type": "stream",
     "text": [
      "2019-02-17 00:00:00\n"
     ]
    },
    {
     "data": {
      "text/plain": [
       "Timestamp('2019-03-04 00:00:00')"
      ]
     },
     "execution_count": 26,
     "metadata": {},
     "output_type": "execute_result"
    }
   ],
   "source": [
    "print(max(tillfeb.date))\n",
    "max(march1.date)"
   ]
  },
  {
   "cell_type": "code",
   "execution_count": 3,
   "metadata": {},
   "outputs": [
    {
     "name": "stdout",
     "output_type": "stream",
     "text": [
      "No     37912\n",
      "Yes    17596\n",
      "Name: sold, dtype: int64\n"
     ]
    }
   ],
   "source": [
    "from glob import glob\n",
    "import pandas as pd\n",
    "import numpy as np\n",
    "import re\n",
    "import time\n",
    "#from translate import Translator\n",
    "from collections import Counter\n",
    "tillfeb=pd.read_csv(\"tillfebruary2.csv.\")\n",
    "march1=pd.read_csv(\"march.csv\",parse_dates=['date'])\n",
    "tillfeb.date=pd.to_datetime(tillfeb.date)\n",
    "march1.drop(columns=[\"Wheels\",\"Version\"],inplace=True)\n",
    "march1=march1[march1['date']>='2019-02-07'].reset_index(drop=True)\n",
    "march1=march1.sort_values(by='date')\n",
    "march1.reset_index(drop=True,inplace=True)\n",
    "march1.drop_duplicates(subset=[\"id_val\",\"brand\",\"model\"],keep=\"first\",inplace=True)\n",
    "march1.reset_index(drop=True,inplace=True)\n",
    "ls=tillfeb[(tillfeb.sold==\"No\")&(tillfeb.date>='2019-02-07')].id_val.tolist()\n",
    "z=[\"No\" if i  in march1.id_val.tolist() else  \"Yes\" for i in ls]\n",
    "tillfeb.loc[(tillfeb.sold==\"No\")&(tillfeb.date>='2019-02-07'),\"sold\"]=z\n",
    "march1['sold']='No'\n",
    "data=pd.concat([tillfeb,march1],ignore_index=True).reset_index(drop=True)\n",
    "data=data.sort_values(by='date')\n",
    "data.reset_index(drop=True,inplace=True)\n",
    "data.drop_duplicates(subset=[\"id_val\",\"brand\",\"model\"],keep=\"first\",inplace=True)\n",
    "data.reset_index(drop=True,inplace=True)\n",
    "data.Horsepower=pd.to_numeric(data.Horsepower, errors='coerce')\n",
    "data=data.sort_values(by='date')\n",
    "data.reset_index(drop=True,inplace=True)\n",
    "print(data.sold.value_counts())\n",
    "data.to_csv(\"tillmarch1.csv\",index_label=False)"
   ]
  },
  {
   "cell_type": "code",
   "execution_count": 20,
   "metadata": {},
   "outputs": [
    {
     "data": {
      "text/plain": [
       "0.3377740971447089"
      ]
     },
     "execution_count": 20,
     "metadata": {},
     "output_type": "execute_result"
    }
   ],
   "source": [
    "18762/(36784+18762)"
   ]
  },
  {
   "cell_type": "code",
   "execution_count": null,
   "metadata": {},
   "outputs": [],
   "source": []
  }
 ],
 "metadata": {
  "kernelspec": {
   "display_name": "Python 3",
   "language": "python",
   "name": "python3"
  },
  "language_info": {
   "codemirror_mode": {
    "name": "ipython",
    "version": 3
   },
   "file_extension": ".py",
   "mimetype": "text/x-python",
   "name": "python",
   "nbconvert_exporter": "python",
   "pygments_lexer": "ipython3",
   "version": "3.7.1"
  }
 },
 "nbformat": 4,
 "nbformat_minor": 2
}
