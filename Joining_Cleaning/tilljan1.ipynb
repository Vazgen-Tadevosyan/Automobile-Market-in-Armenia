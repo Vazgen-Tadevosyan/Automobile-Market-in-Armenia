{
 "cells": [
  {
   "cell_type": "code",
   "execution_count": 9,
   "metadata": {},
   "outputs": [
    {
     "name": "stdout",
     "output_type": "stream",
     "text": [
      "2018-12-22 00:00:00\n"
     ]
    },
    {
     "data": {
      "text/plain": [
       "Timestamp('2019-01-07 00:00:00')"
      ]
     },
     "execution_count": 9,
     "metadata": {},
     "output_type": "execute_result"
    }
   ],
   "source": [
    "print(max(tilldec.date))\n",
    "max(january.date)"
   ]
  },
  {
   "cell_type": "code",
   "execution_count": 11,
   "metadata": {},
   "outputs": [
    {
     "name": "stdout",
     "output_type": "stream",
     "text": [
      "No     25796\n",
      "Yes    10267\n",
      "Name: sold, dtype: int64\n"
     ]
    }
   ],
   "source": [
    "from glob import glob\n",
    "import pandas as pd\n",
    "import numpy as np\n",
    "import re\n",
    "import time\n",
    "from translate import Translator\n",
    "from collections import Counter\n",
    "tillnov=pd.read_csv(\"tilldec.csv.\")\n",
    "jan=pd.read_csv(\"january.csv\",parse_dates=['date'])\n",
    "tillnov.date=pd.to_datetime(tillnov.date)\n",
    "jan.drop(columns=[\"Wheels\",\"Version\"],inplace=True)\n",
    "jan=jan[jan['date']>='2018-12-08'].reset_index(drop=True)\n",
    "jan=jan.sort_values(by='date')\n",
    "jan.reset_index(drop=True,inplace=True)\n",
    "jan.drop_duplicates(subset=[\"id_val\",\"brand\",\"model\"],keep=\"first\",inplace=True)\n",
    "jan.reset_index(drop=True,inplace=True)\n",
    "ls=tillnov[(tillnov.sold==\"No\")&(tillnov.date>='2018-12-08')].id_val.tolist()\n",
    "z=[\"No\" if i  in jan.id_val.tolist() else  \"Yes\" for i in ls]\n",
    "tillnov.loc[(tillnov.sold==\"No\")&(tillnov.date>='2018-12-08'),\"sold\"]=z\n",
    "jan['sold']='No'\n",
    "data=pd.concat([tillnov,jan],ignore_index=True).reset_index(drop=True)\n",
    "data=data.sort_values(by='date')\n",
    "data.reset_index(drop=True,inplace=True)\n",
    "data.drop_duplicates(subset=[\"id_val\",\"brand\",\"model\"],keep=\"first\",inplace=True)\n",
    "data.reset_index(drop=True,inplace=True)\n",
    "data.Horsepower=pd.to_numeric(data.Horsepower, errors='coerce')\n",
    "data=data.sort_values(by='date')\n",
    "data.reset_index(drop=True,inplace=True)\n",
    "print(data.sold.value_counts())\n",
    "data.to_csv(\"tilljan.csv\",index_label=False)"
   ]
  },
  {
   "cell_type": "code",
   "execution_count": null,
   "metadata": {},
   "outputs": [],
   "source": []
  }
 ],
 "metadata": {
  "kernelspec": {
   "display_name": "Python 3",
   "language": "python",
   "name": "python3"
  },
  "language_info": {
   "codemirror_mode": {
    "name": "ipython",
    "version": 3
   },
   "file_extension": ".py",
   "mimetype": "text/x-python",
   "name": "python",
   "nbconvert_exporter": "python",
   "pygments_lexer": "ipython3",
   "version": "3.7.1"
  }
 },
 "nbformat": 4,
 "nbformat_minor": 2
}
