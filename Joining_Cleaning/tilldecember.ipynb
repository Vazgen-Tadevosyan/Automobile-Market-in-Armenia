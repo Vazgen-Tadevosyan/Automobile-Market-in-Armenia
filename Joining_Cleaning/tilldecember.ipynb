{
 "cells": [
  {
   "cell_type": "code",
   "execution_count": 10,
   "metadata": {},
   "outputs": [
    {
     "name": "stdout",
     "output_type": "stream",
     "text": [
      "2018-11-25 00:00:00\n",
      "2018-12-22 00:00:00\n",
      "2018-12-22 00:00:00\n"
     ]
    }
   ],
   "source": [
    "print(max(tillnov.date))\n",
    "print(max(december.date))"
   ]
  },
  {
   "cell_type": "code",
   "execution_count": 1,
   "metadata": {
    "scrolled": true
   },
   "outputs": [
    {
     "name": "stdout",
     "output_type": "stream",
     "text": [
      "No     23657\n",
      "Yes     8441\n",
      "Name: sold, dtype: int64\n"
     ]
    }
   ],
   "source": [
    "from glob import glob\n",
    "import pandas as pd\n",
    "import numpy as np\n",
    "import re\n",
    "import time\n",
    "from translate import Translator\n",
    "from collections import Counter\n",
    "tillnov=pd.read_csv(\"tillnov.csv.\")\n",
    "december=pd.read_csv(\"december.csv\",parse_dates=['date'])\n",
    "tillnov.date=pd.to_datetime(tillnov.date)\n",
    "december.drop(columns=[\"Wheels\",\"Version\"],inplace=True)\n",
    "december=december[december['date']>='2018-11-05'].reset_index(drop=True)\n",
    "december=december.sort_values(by='date')\n",
    "december.reset_index(drop=True,inplace=True)\n",
    "december.drop_duplicates(subset=[\"id_val\",\"brand\",\"model\"],keep=\"first\",inplace=True)\n",
    "december.reset_index(drop=True,inplace=True)\n",
    "ls=tillnov[(tillnov.sold==\"No\")&(tillnov.date>='2018-11-05')].id_val.tolist()\n",
    "z=[\"No\" if i  in december.id_val.tolist() else  \"Yes\" for i in ls]\n",
    "tillnov.loc[(tillnov.sold==\"No\")&(tillnov.date>='2018-11-05'),\"sold\"]=z\n",
    "december['sold']='No'\n",
    "data=pd.concat([tillnov,december],ignore_index=True).reset_index(drop=True)\n",
    "data=data.sort_values(by='date')\n",
    "data.reset_index(drop=True,inplace=True)\n",
    "data.drop_duplicates(subset=[\"id_val\",\"brand\",\"model\"],keep=\"first\",inplace=True)\n",
    "data.reset_index(drop=True,inplace=True)\n",
    "data.Horsepower=pd.to_numeric(data.Horsepower, errors='coerce')\n",
    "data=data.sort_values(by='date')\n",
    "data.reset_index(drop=True,inplace=True)\n",
    "print(data.sold.value_counts())\n",
    "data.to_csv(\"tilldec.csv\",index_label=False)"
   ]
  },
  {
   "cell_type": "code",
   "execution_count": null,
   "metadata": {},
   "outputs": [],
   "source": []
  }
 ],
 "metadata": {
  "kernelspec": {
   "display_name": "Python 3",
   "language": "python",
   "name": "python3"
  },
  "language_info": {
   "codemirror_mode": {
    "name": "ipython",
    "version": 3
   },
   "file_extension": ".py",
   "mimetype": "text/x-python",
   "name": "python",
   "nbconvert_exporter": "python",
   "pygments_lexer": "ipython3",
   "version": "3.7.1"
  }
 },
 "nbformat": 4,
 "nbformat_minor": 2
}
