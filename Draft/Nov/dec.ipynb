{
 "cells": [
  {
   "cell_type": "code",
   "execution_count": 1,
   "metadata": {},
   "outputs": [],
   "source": [
    "from glob import glob\n",
    "import pandas as pd\n",
    "import numpy as np\n",
    "import re\n",
    "import time\n",
    "from translate import Translator"
   ]
  },
  {
   "cell_type": "code",
   "execution_count": 2,
   "metadata": {},
   "outputs": [],
   "source": [
    "translator= Translator(to_lang=\"en\",from_lang=\"hy\")\n",
    "#putting all 5 dfs into one list and dropping rows where all values are NA\n",
    "allFiles =glob(\"nov*.csv\")\n",
    "ls=[]\n",
    "frame = pd.DataFrame()"
   ]
  },
  {
   "cell_type": "code",
   "execution_count": 3,
   "metadata": {},
   "outputs": [
    {
     "data": {
      "text/plain": [
       "['nov1.csv', 'nov2.csv', 'nov3.csv', 'nov4.csv']"
      ]
     },
     "execution_count": 3,
     "metadata": {},
     "output_type": "execute_result"
    }
   ],
   "source": [
    "allFiles"
   ]
  },
  {
   "cell_type": "code",
   "execution_count": 4,
   "metadata": {},
   "outputs": [],
   "source": [
    "for i in allFiles:\n",
    "    ls.append(pd.read_csv(i,index_col=None))"
   ]
  },
  {
   "cell_type": "code",
   "execution_count": 5,
   "metadata": {},
   "outputs": [],
   "source": [
    "sep=pd.concat(ls)"
   ]
  },
  {
   "cell_type": "code",
   "execution_count": 6,
   "metadata": {},
   "outputs": [],
   "source": [
    "sep=sep.loc[:, sep.columns != 'Unnamed: 0']"
   ]
  },
  {
   "cell_type": "code",
   "execution_count": 7,
   "metadata": {},
   "outputs": [
    {
     "data": {
      "text/plain": [
       "Index(['brand', 'date', 'id_val', 'model', 'price', 'year', 'Անվահեծերը',\n",
       "       'Գույնը', 'Դռների քանակը', 'Թափքը', 'Ձիաուժը', 'Ղեկը',\n",
       "       'Մխոցների քանակը', 'Մոդիֆիկացիան', 'Շարժիչը', 'Շարժիչի ծավալը',\n",
       "       'Սրահի գույնը', 'Վազքը', 'Փոխանցման տուփը', 'Քարշակը'],\n",
       "      dtype='object')"
      ]
     },
     "execution_count": 7,
     "metadata": {},
     "output_type": "execute_result"
    }
   ],
   "source": [
    "sep.columns"
   ]
  },
  {
   "cell_type": "code",
   "execution_count": 8,
   "metadata": {},
   "outputs": [],
   "source": [
    "new_columns=['brand', 'date', 'id_val', 'model', 'price', 'year', 'Wheels',\n",
    "       'Color', 'Door_Count', 'Body_Style', 'Horsepower', 'Hand_Drive',\n",
    "       'Engine_Cylinders', 'Version', 'Engine', 'Engine_Volume',\n",
    "       'Interior_Color', 'Mileage', 'Gearbox', 'Drive_train']"
   ]
  },
  {
   "cell_type": "code",
   "execution_count": 9,
   "metadata": {},
   "outputs": [],
   "source": [
    "sep.columns=new_columns"
   ]
  },
  {
   "cell_type": "code",
   "execution_count": 10,
   "metadata": {},
   "outputs": [],
   "source": [
    "sep[\"date\"]=sep.date.apply(lambda x:re.findall(\"[\\d\\.]+\",x)[0])\n",
    "sep['date']=pd.to_datetime(sep['date'],format='%d.%m.%Y')"
   ]
  },
  {
   "cell_type": "code",
   "execution_count": 11,
   "metadata": {
    "scrolled": true
   },
   "outputs": [],
   "source": [
    "Body_Styles=sep.Body_Style.value_counts().index\n",
    "colors=sep.Color.value_counts().index\n",
    "Hand_Drive=sep.Hand_Drive.value_counts().index\n",
    "engine=sep.Engine.value_counts().index\n",
    "inter=sep.Interior_Color.value_counts().index\n",
    "Gearbox=sep.Gearbox.value_counts().index.tolist()\n",
    "Drive=sep.Drive_train.value_counts().index"
   ]
  },
  {
   "cell_type": "code",
   "execution_count": 12,
   "metadata": {},
   "outputs": [],
   "source": [
    "dct_body={k:translator.translate(k) for k in Body_Styles}\n",
    "dct_col={k:translator.translate(k) for k in colors}\n",
    "dct_hand={k:translator.translate(k) for k in Hand_Drive}\n",
    "dct_eng={k:translator.translate(k) for k in engine}\n",
    "dct_inter={k:translator.translate(k) for k in inter}\n",
    "dct_Gearbox={k:translator.translate(k) for k in Gearbox}\n",
    "dct_Drive={k:translator.translate(k) for k in Drive}"
   ]
  },
  {
   "cell_type": "code",
   "execution_count": 13,
   "metadata": {},
   "outputs": [],
   "source": [
    "sep.replace({\"Body_Style\": dct_body,\"Color\":dct_col,\"Hand_Drive\":dct_hand,\"Engine\":dct_eng,\"Interior_Color\":dct_inter,\n",
    "            \"Gearbox\":dct_Gearbox,\"Drive_train\":dct_Drive},inplace=True)"
   ]
  },
  {
   "cell_type": "code",
   "execution_count": 14,
   "metadata": {},
   "outputs": [],
   "source": [
    "def clean_price(x):\n",
    "    if x.endswith(\"$\"):\n",
    "        x=float(re.findall('[\\d]+',x)[0]+re.findall('[\\d]+',x)[1])\n",
    "    elif x.endswith(\"֏\"):\n",
    "        x=float(re.findall('[\\d]+',x)[0]+re.findall('[\\d]+',x)[1])/485\n",
    "    else:\n",
    "        x=float(re.findall('[\\d]+',x)[0]+re.findall('[\\d]+',x)[1])*1.13\n",
    "    return x"
   ]
  },
  {
   "cell_type": "code",
   "execution_count": 15,
   "metadata": {},
   "outputs": [],
   "source": [
    "sep['price']=sep['price'].apply(clean_price)\n",
    "sep.Wheels=sep.Wheels.apply(lambda x:re.findall(\"[\\d]+\",x)[0] if pd.notnull(x) else x)\n",
    "sep.drop(columns=\"Door_Count\",inplace=True)\n",
    "sep.Horsepower=sep.Horsepower.apply(lambda x:float(x) if str(x).isdigit() else x)\n",
    "sep.Mileage=sep.Mileage.apply(lambda x: float(re.findall(\"[\\d]+\",x)[0]))"
   ]
  },
  {
   "cell_type": "code",
   "execution_count": 16,
   "metadata": {},
   "outputs": [
    {
     "name": "stdout",
     "output_type": "stream",
     "text": [
      "<class 'pandas.core.frame.DataFrame'>\n",
      "Int64Index: 17968 entries, 0 to 4123\n",
      "Data columns (total 19 columns):\n",
      "brand               17968 non-null object\n",
      "date                17968 non-null datetime64[ns]\n",
      "id_val              17968 non-null object\n",
      "model               17968 non-null object\n",
      "price               17968 non-null float64\n",
      "year                17968 non-null int64\n",
      "Wheels              4503 non-null object\n",
      "Color               17968 non-null object\n",
      "Body_Style          17968 non-null object\n",
      "Horsepower          4136 non-null object\n",
      "Hand_Drive          17968 non-null object\n",
      "Engine_Cylinders    4094 non-null float64\n",
      "Version             9348 non-null object\n",
      "Engine              17968 non-null object\n",
      "Engine_Volume       5632 non-null float64\n",
      "Interior_Color      5072 non-null object\n",
      "Mileage             17968 non-null float64\n",
      "Gearbox             17968 non-null object\n",
      "Drive_train         4876 non-null object\n",
      "dtypes: datetime64[ns](1), float64(4), int64(1), object(13)\n",
      "memory usage: 2.7+ MB\n"
     ]
    }
   ],
   "source": [
    "sep.to_csv(\"november.csv\",index=False)\n",
    "\n",
    "sep.info()"
   ]
  },
  {
   "cell_type": "code",
   "execution_count": 23,
   "metadata": {},
   "outputs": [],
   "source": [
    "sep=pd.read_csv(\"september.csv\",parse_dates=['date'])"
   ]
  },
  {
   "cell_type": "code",
   "execution_count": 26,
   "metadata": {},
   "outputs": [
    {
     "data": {
      "text/plain": [
       "3"
      ]
     },
     "execution_count": 26,
     "metadata": {},
     "output_type": "execute_result"
    }
   ],
   "source": [
    "sum(sep.date>\"2018-10-03\")"
   ]
  },
  {
   "cell_type": "code",
   "execution_count": 15,
   "metadata": {},
   "outputs": [
    {
     "data": {
      "text/plain": [
       "0          82000 կմ\n",
       "1         108000 կմ\n",
       "2       109000 մղոն\n",
       "3          13000 կմ\n",
       "4            140 կմ\n",
       "5         200000 կմ\n",
       "6         150000 կմ\n",
       "7        85000 մղոն\n",
       "8        85000 մղոն\n",
       "9         108000 կմ\n",
       "10       78000 մղոն\n",
       "11        165000 կմ\n",
       "12        270000 կմ\n",
       "13         38900 կմ\n",
       "14        157000 կմ\n",
       "15         64000 կմ\n",
       "16        280000 կմ\n",
       "17         70000 կմ\n",
       "18        117000 կմ\n",
       "19        260000 կմ\n",
       "20           270 կմ\n",
       "21        148000 կմ\n",
       "22        121000 կմ\n",
       "23        217000 կմ\n",
       "24           150 կմ\n",
       "25        101000 կմ\n",
       "26        146000 կմ\n",
       "27        170000 կմ\n",
       "28        120000 կմ\n",
       "29         68000 կմ\n",
       "           ...     \n",
       "4094      259000 կմ\n",
       "4095      165000 կմ\n",
       "4096    180000 մղոն\n",
       "4097    186000 մղոն\n",
       "4098       89300 կմ\n",
       "4099     34000 մղոն\n",
       "4100      111000 կմ\n",
       "4101      177000 կմ\n",
       "4102      165000 կմ\n",
       "4103      195000 կմ\n",
       "4104    110000 մղոն\n",
       "4105      107005 կմ\n",
       "4106      121998 կմ\n",
       "4107    132000 մղոն\n",
       "4108      200000 կմ\n",
       "4109      102000 կմ\n",
       "4110      109000 կմ\n",
       "4111    125000 մղոն\n",
       "4112       65000 կմ\n",
       "4113    180000 մղոն\n",
       "4114       61000 կմ\n",
       "4115       34999 կմ\n",
       "4116     95000 մղոն\n",
       "4117      173000 կմ\n",
       "4118      120000 կմ\n",
       "4119      180000 կմ\n",
       "4120       22000 կմ\n",
       "4121    105000 մղոն\n",
       "4122      133000 կմ\n",
       "4123       50000 կմ\n",
       "Name: Mileage, Length: 17968, dtype: object"
      ]
     },
     "execution_count": 15,
     "metadata": {},
     "output_type": "execute_result"
    }
   ],
   "source": [
    "sep.Mileage"
   ]
  },
  {
   "cell_type": "code",
   "execution_count": null,
   "metadata": {},
   "outputs": [],
   "source": []
  }
 ],
 "metadata": {
  "kernelspec": {
   "display_name": "Python 3",
   "language": "python",
   "name": "python3"
  },
  "language_info": {
   "codemirror_mode": {
    "name": "ipython",
    "version": 3
   },
   "file_extension": ".py",
   "mimetype": "text/x-python",
   "name": "python",
   "nbconvert_exporter": "python",
   "pygments_lexer": "ipython3",
   "version": "3.7.1"
  }
 },
 "nbformat": 4,
 "nbformat_minor": 2
}
