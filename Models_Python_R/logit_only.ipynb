{
 "cells": [
  {
   "cell_type": "code",
   "execution_count": 1,
   "metadata": {},
   "outputs": [
    {
     "name": "stderr",
     "output_type": "stream",
     "text": [
      "C:\\ProgramData\\Anaconda3\\lib\\importlib\\_bootstrap.py:219: RuntimeWarning: numpy.ufunc size changed, may indicate binary incompatibility. Expected 216, got 192\n",
      "  return f(*args, **kwds)\n",
      "C:\\ProgramData\\Anaconda3\\lib\\importlib\\_bootstrap.py:219: ImportWarning: can't resolve package from __spec__ or __package__, falling back on __name__ and __path__\n",
      "  return f(*args, **kwds)\n"
     ]
    }
   ],
   "source": [
    "import numpy as np\n",
    "import pandas as pd\n",
    "import matplotlib.pyplot as plt\n",
    "import seaborn as sns\n",
    "from sklearn.tree import DecisionTreeClassifier\n",
    "from sklearn.model_selection import train_test_split\n",
    "from statsmodels.discrete.discrete_model import Logit \n",
    "from sklearn.tree import export_graphviz\n",
    "from sklearn.metrics import confusion_matrix, classification_report\n",
    "from sklearn.model_selection import GridSearchCV\n",
    "from  sklearn.metrics import recall_score\n",
    "from scipy import stats\n",
    "import warnings\n",
    "warnings.filterwarnings(action='once')\n",
    "from sklearn.model_selection import  cross_val_score\n",
    "from sklearn.metrics import  confusion_matrix\n",
    "from sklearn.metrics import classification_report\n",
    "from sklearn.linear_model import  LogisticRegression\n",
    "from sklearn.metrics import roc_auc_score\n",
    "from sklearn.metrics import  roc_curve\n",
    "from sklearn.ensemble import  RandomForestClassifier\n",
    "from sklearn.ensemble import  GradientBoostingClassifier"
   ]
  },
  {
   "cell_type": "code",
   "execution_count": 2,
   "metadata": {},
   "outputs": [
    {
     "name": "stdout",
     "output_type": "stream",
     "text": [
      "sklearn: 0.20.3\n"
     ]
    }
   ],
   "source": [
    "import sklearn\n",
    "print('sklearn: %s' % sklearn.__version__)"
   ]
  },
  {
   "cell_type": "code",
   "execution_count": 4,
   "metadata": {},
   "outputs": [],
   "source": [
    "data=pd.read_csv(\"apush.csv\")"
   ]
  },
  {
   "cell_type": "code",
   "execution_count": 5,
   "metadata": {},
   "outputs": [],
   "source": [
    "data.reset_index(drop=True,inplace=True)"
   ]
  },
  {
   "cell_type": "code",
   "execution_count": 6,
   "metadata": {},
   "outputs": [
    {
     "data": {
      "text/html": [
       "<div>\n",
       "<style scoped>\n",
       "    .dataframe tbody tr th:only-of-type {\n",
       "        vertical-align: middle;\n",
       "    }\n",
       "\n",
       "    .dataframe tbody tr th {\n",
       "        vertical-align: top;\n",
       "    }\n",
       "\n",
       "    .dataframe thead th {\n",
       "        text-align: right;\n",
       "    }\n",
       "</style>\n",
       "<table border=\"1\" class=\"dataframe\">\n",
       "  <thead>\n",
       "    <tr style=\"text-align: right;\">\n",
       "      <th></th>\n",
       "      <th>brand</th>\n",
       "      <th>date</th>\n",
       "      <th>id_val</th>\n",
       "      <th>model</th>\n",
       "      <th>price</th>\n",
       "      <th>year</th>\n",
       "      <th>Color</th>\n",
       "      <th>Body_Style</th>\n",
       "      <th>Horsepower</th>\n",
       "      <th>Hand_Drive</th>\n",
       "      <th>Engine_Cylinders</th>\n",
       "      <th>Engine</th>\n",
       "      <th>Engine_Volume</th>\n",
       "      <th>Interior_Color</th>\n",
       "      <th>Mileage</th>\n",
       "      <th>Gearbox</th>\n",
       "      <th>Drive_train</th>\n",
       "      <th>sold</th>\n",
       "    </tr>\n",
       "  </thead>\n",
       "  <tbody>\n",
       "    <tr>\n",
       "      <th>0</th>\n",
       "      <td>Opel</td>\n",
       "      <td>8/2/2018</td>\n",
       "      <td>ID: 1770041</td>\n",
       "      <td>Astra</td>\n",
       "      <td>3000.0</td>\n",
       "      <td>2003</td>\n",
       "      <td>black</td>\n",
       "      <td>Hatchback</td>\n",
       "      <td>NaN</td>\n",
       "      <td>Left</td>\n",
       "      <td>NaN</td>\n",
       "      <td>Petrol</td>\n",
       "      <td>NaN</td>\n",
       "      <td>NaN</td>\n",
       "      <td>140000.0</td>\n",
       "      <td>Mechanical</td>\n",
       "      <td>NaN</td>\n",
       "      <td>No</td>\n",
       "    </tr>\n",
       "    <tr>\n",
       "      <th>1</th>\n",
       "      <td>Toyota</td>\n",
       "      <td>8/2/2018</td>\n",
       "      <td>ID: 1769874</td>\n",
       "      <td>Camry</td>\n",
       "      <td>9310.0</td>\n",
       "      <td>2012</td>\n",
       "      <td>black</td>\n",
       "      <td>Sedan</td>\n",
       "      <td>NaN</td>\n",
       "      <td>Left</td>\n",
       "      <td>NaN</td>\n",
       "      <td>Petrol</td>\n",
       "      <td>NaN</td>\n",
       "      <td>NaN</td>\n",
       "      <td>102000.0</td>\n",
       "      <td>Automatic</td>\n",
       "      <td>NaN</td>\n",
       "      <td>Yes</td>\n",
       "    </tr>\n",
       "    <tr>\n",
       "      <th>2</th>\n",
       "      <td>Nissan</td>\n",
       "      <td>8/2/2018</td>\n",
       "      <td>ID: 1769860</td>\n",
       "      <td>Elgrand</td>\n",
       "      <td>6982.5</td>\n",
       "      <td>2006</td>\n",
       "      <td>White</td>\n",
       "      <td>Minivan / Minibus</td>\n",
       "      <td>NaN</td>\n",
       "      <td>Right</td>\n",
       "      <td>NaN</td>\n",
       "      <td>Petrol</td>\n",
       "      <td>NaN</td>\n",
       "      <td>NaN</td>\n",
       "      <td>75000.0</td>\n",
       "      <td>Automatic</td>\n",
       "      <td>NaN</td>\n",
       "      <td>Yes</td>\n",
       "    </tr>\n",
       "    <tr>\n",
       "      <th>3</th>\n",
       "      <td>Mitsubishi</td>\n",
       "      <td>8/2/2018</td>\n",
       "      <td>ID: 1770897</td>\n",
       "      <td>Pajero</td>\n",
       "      <td>7913.5</td>\n",
       "      <td>2007</td>\n",
       "      <td>black</td>\n",
       "      <td>Truck:</td>\n",
       "      <td>NaN</td>\n",
       "      <td>Left</td>\n",
       "      <td>NaN</td>\n",
       "      <td>Astragalus</td>\n",
       "      <td>NaN</td>\n",
       "      <td>NaN</td>\n",
       "      <td>136000.0</td>\n",
       "      <td>Automatic</td>\n",
       "      <td>NaN</td>\n",
       "      <td>Yes</td>\n",
       "    </tr>\n",
       "    <tr>\n",
       "      <th>4</th>\n",
       "      <td>Mazda</td>\n",
       "      <td>8/2/2018</td>\n",
       "      <td>ID: 1770715</td>\n",
       "      <td>6</td>\n",
       "      <td>11637.5</td>\n",
       "      <td>2015</td>\n",
       "      <td>Grey</td>\n",
       "      <td>Sedan</td>\n",
       "      <td>NaN</td>\n",
       "      <td>Left</td>\n",
       "      <td>NaN</td>\n",
       "      <td>Petrol</td>\n",
       "      <td>NaN</td>\n",
       "      <td>NaN</td>\n",
       "      <td>89000.0</td>\n",
       "      <td>Automatic</td>\n",
       "      <td>NaN</td>\n",
       "      <td>Yes</td>\n",
       "    </tr>\n",
       "  </tbody>\n",
       "</table>\n",
       "</div>"
      ],
      "text/plain": [
       "        brand      date        id_val     model    price  year  Color  \\\n",
       "0        Opel  8/2/2018   ID: 1770041    Astra    3000.0  2003  black   \n",
       "1      Toyota  8/2/2018   ID: 1769874    Camry    9310.0  2012  black   \n",
       "2      Nissan  8/2/2018   ID: 1769860  Elgrand    6982.5  2006  White   \n",
       "3  Mitsubishi  8/2/2018   ID: 1770897   Pajero    7913.5  2007  black   \n",
       "4       Mazda  8/2/2018   ID: 1770715         6  11637.5  2015   Grey   \n",
       "\n",
       "          Body_Style  Horsepower Hand_Drive  Engine_Cylinders      Engine  \\\n",
       "0          Hatchback         NaN       Left               NaN      Petrol   \n",
       "1              Sedan         NaN       Left               NaN      Petrol   \n",
       "2  Minivan / Minibus         NaN      Right               NaN      Petrol   \n",
       "3             Truck:         NaN       Left               NaN  Astragalus   \n",
       "4              Sedan         NaN       Left               NaN      Petrol   \n",
       "\n",
       "   Engine_Volume Interior_Color   Mileage     Gearbox Drive_train sold  \n",
       "0            NaN            NaN  140000.0  Mechanical         NaN   No  \n",
       "1            NaN            NaN  102000.0   Automatic         NaN  Yes  \n",
       "2            NaN            NaN   75000.0   Automatic         NaN  Yes  \n",
       "3            NaN            NaN  136000.0   Automatic         NaN  Yes  \n",
       "4            NaN            NaN   89000.0   Automatic         NaN  Yes  "
      ]
     },
     "execution_count": 6,
     "metadata": {},
     "output_type": "execute_result"
    }
   ],
   "source": [
    "data.head()"
   ]
  },
  {
   "cell_type": "code",
   "execution_count": 7,
   "metadata": {},
   "outputs": [
    {
     "name": "stdout",
     "output_type": "stream",
     "text": [
      "<class 'pandas.core.frame.DataFrame'>\n",
      "RangeIndex: 62658 entries, 0 to 62657\n",
      "Data columns (total 13 columns):\n",
      "brand         62658 non-null object\n",
      "date          62658 non-null object\n",
      "id_val        62658 non-null object\n",
      "model         62658 non-null object\n",
      "price         62658 non-null float64\n",
      "year          62658 non-null int64\n",
      "Color         62658 non-null object\n",
      "Body_Style    62658 non-null object\n",
      "Hand_Drive    62658 non-null object\n",
      "Engine        62658 non-null object\n",
      "Mileage       62658 non-null float64\n",
      "Gearbox       62658 non-null object\n",
      "sold          62658 non-null object\n",
      "dtypes: float64(2), int64(1), object(10)\n",
      "memory usage: 6.2+ MB\n"
     ]
    }
   ],
   "source": [
    "\n",
    "data.drop(columns=data.columns[data.isna().any()].tolist(),inplace=True)\n",
    "data.info()"
   ]
  },
  {
   "cell_type": "code",
   "execution_count": 8,
   "metadata": {},
   "outputs": [],
   "source": [
    "data.drop(columns=[\"id_val\",\"date\"],inplace=True)"
   ]
  },
  {
   "cell_type": "code",
   "execution_count": 9,
   "metadata": {},
   "outputs": [
    {
     "data": {
      "image/png": "[encoded data removed]",
      "text/plain": [
       "<Figure size 432x288 with 1 Axes>"
      ]
     },
     "metadata": {
      "needs_background": "light"
     },
     "output_type": "display_data"
    },
    {
     "name": "stdout",
     "output_type": "stream",
     "text": [
      "No     70.331003\n",
      "Yes    29.668997\n",
      "Name: sold, dtype: float64\n"
     ]
    }
   ],
   "source": [
    " # as it is unnecessary data\n",
    "\n",
    "sns.countplot(x=\"sold\",data=data)\n",
    "plt.title(\"Distribution of cars by sold status and Gender\")\n",
    "plt.show()\n",
    "#let's see percenatage of customers who didn't subscribe to term deposit,\n",
    "#and percenatage of customers who subscribed to term deposit\n",
    "print(data.sold.value_counts()/len(data)*100)\n",
    "\n",
    "#### <p1>as we see our benchmark is about 84 percent our model should predict more precisely</p1>\n",
    "\n",
    "df_num=data.select_dtypes(exclude=\"object\")## we divide data in this groups to check variance, \n",
    "df_object=data.select_dtypes(include=\"object\")#if there is exict a column containing only one value\n",
    "for i in df_num:\n",
    "    if df_num[i].var()==0:\n",
    "        del df_num[i]\n",
    "cols_should_dropped=[i for i in df_object.columns if len(df_object[i].unique())==1]\n",
    "df_object=df_object.drop(columns=cols_should_dropped)"
   ]
  },
  {
   "cell_type": "markdown",
   "metadata": {},
   "source": [
    "## Plot the boxplots and Histograms for all numeric variables \n"
   ]
  },
  {
   "cell_type": "code",
   "execution_count": 9,
   "metadata": {},
   "outputs": [
    {
     "name": "stderr",
     "output_type": "stream",
     "text": [
      "C:\\ProgramData\\Anaconda3\\lib\\site-packages\\scipy\\stats\\stats.py:1713: FutureWarning: Using a non-tuple sequence for multidimensional indexing is deprecated; use `arr[tuple(seq)]` instead of `arr[seq]`. In the future this will be interpreted as an array index, `arr[np.array(seq)]`, which will result either in an error or a different result.\n",
      "  return np.add.reduce(sorted[indexer] * weights, axis=axis) / sumval\n"
     ]
    },
    {
     "data": {
      "image/png": "[encoded data removed]",
      "text/plain": [
       "<Figure size 432x288 with 1 Axes>"
      ]
     },
     "metadata": {
      "needs_background": "light"
     },
     "output_type": "display_data"
    },
    {
     "data": {
      "image/png": "[encoded data removed]",
      "text/plain": [
       "<Figure size 432x288 with 1 Axes>"
      ]
     },
     "metadata": {
      "needs_background": "light"
     },
     "output_type": "display_data"
    },
    {
     "data": {
      "image/png": "[encoded data removed]",
      "text/plain": [
       "<Figure size 432x288 with 1 Axes>"
      ]
     },
     "metadata": {
      "needs_background": "light"
     },
     "output_type": "display_data"
    }
   ],
   "source": [
    "for i in df_num:\n",
    "        sns.distplot(df_num[i],norm_hist=True)\n",
    "        plt.title(\"Histogram of column %s\"% i)\n",
    "        plt.show()"
   ]
  },
  {
   "cell_type": "markdown",
   "metadata": {},
   "source": [
    "<p>It seemed only age was normally distributed</p>"
   ]
  },
  {
   "cell_type": "code",
   "execution_count": 22,
   "metadata": {
    "scrolled": true
   },
   "outputs": [
    {
     "data": {
      "image/png": "[encoded data removed]",
      "text/plain": [
       "<Figure size 432x288 with 1 Axes>"
      ]
     },
     "metadata": {
      "needs_background": "light"
     },
     "output_type": "display_data"
    },
    {
     "data": {
      "image/png": "[encoded data removed]",
      "text/plain": [
       "<Figure size 432x288 with 1 Axes>"
      ]
     },
     "metadata": {
      "needs_background": "light"
     },
     "output_type": "display_data"
    },
    {
     "data": {
      "image/png": "[encoded data removed]",
      "text/plain": [
       "<Figure size 432x288 with 1 Axes>"
      ]
     },
     "metadata": {
      "needs_background": "light"
     },
     "output_type": "display_data"
    }
   ],
   "source": [
    "for i in df_num:\n",
    "    sns.boxplot(data=df_num,y=i,showmeans=True,fliersize=5)\n",
    "    plt.title(\"Boxplot of column %s\"% i)\n",
    "    plt.show()\n"
   ]
  },
  {
   "cell_type": "code",
   "execution_count": 23,
   "metadata": {},
   "outputs": [
    {
     "data": {
      "image/png": "[encoded data removed]",
      "text/plain": [
       "<Figure size 792x504 with 2 Axes>"
      ]
     },
     "metadata": {
      "needs_background": "light"
     },
     "output_type": "display_data"
    }
   ],
   "source": [
    "plt.figure(figsize=(11,7))\n",
    "sns.heatmap(df_num.corr().abs().round(2)>0.7,annot=True)\n",
    "plt.show()"
   ]
  },
  {
   "cell_type": "markdown",
   "metadata": {},
   "source": [
    "<h4>As we see we have highly correlated variabe monthly income and job level I will drop joblevel to keep variables independet</h4>"
   ]
  },
  {
   "cell_type": "markdown",
   "metadata": {},
   "source": [
    "# Logit 1- With data with outliers and joblevel"
   ]
  },
  {
   "cell_type": "code",
   "execution_count": 24,
   "metadata": {},
   "outputs": [
    {
     "name": "stdout",
     "output_type": "stream",
     "text": [
      "<class 'pandas.core.frame.DataFrame'>\n",
      "RangeIndex: 62658 entries, 0 to 62657\n",
      "Data columns (total 11 columns):\n",
      "brand         62658 non-null object\n",
      "model         62658 non-null object\n",
      "price         62658 non-null float64\n",
      "year          62658 non-null int64\n",
      "Color         62658 non-null object\n",
      "Body_Style    62658 non-null object\n",
      "Hand_Drive    62658 non-null object\n",
      "Engine        62658 non-null object\n",
      "Mileage       62658 non-null float64\n",
      "Gearbox       62658 non-null object\n",
      "sold          62658 non-null object\n",
      "dtypes: float64(2), int64(1), object(8)\n",
      "memory usage: 5.3+ MB\n"
     ]
    }
   ],
   "source": [
    "data.info()"
   ]
  },
  {
   "cell_type": "code",
   "execution_count": 10,
   "metadata": {
    "scrolled": true
   },
   "outputs": [],
   "source": [
    "### lets create dummies from object variables and final data\n",
    "df_dummies=pd.get_dummies(df_object,prefix=df_object.columns,drop_first=True)\n",
    "data1=df_num.join(df_dummies)\n",
    "Y1=data1.sold_Yes\n",
    "X1=data1.drop(\"sold_Yes\",axis=1)\n",
    "grid1=GridSearchCV(LogisticRegression(solver='liblinear',random_state=42,class_weight=\"balanced\"),param_grid={\"C\":np.linspace(0.0001,1,20),\"penalty\":\n",
    "                                                                                                [\"l1\",\"l2\"]},scoring=\"roc_auc\",cv=5,n_jobs=-1)\n"
   ]
  },
  {
   "cell_type": "code",
   "execution_count": 11,
   "metadata": {
    "scrolled": true
   },
   "outputs": [
    {
     "ename": "NameError",
     "evalue": "name 'logit1' is not defined",
     "output_type": "error",
     "traceback": [
      "\u001b[1;31m---------------------------------------------------------------------------\u001b[0m",
      "\u001b[1;31mNameError\u001b[0m                                 Traceback (most recent call last)",
      "\u001b[1;32m<ipython-input-11-178196cf91df>\u001b[0m in \u001b[0;36m<module>\u001b[1;34m\u001b[0m\n\u001b[0;32m      4\u001b[0m \u001b[1;31m#x_train,x_test,y_train,y_test=train_test_split(X1,Y1,test_size=0.2,random_state=42,stratify=Y1)\u001b[0m\u001b[1;33m\u001b[0m\u001b[1;33m\u001b[0m\u001b[1;33m\u001b[0m\u001b[0m\n\u001b[0;32m      5\u001b[0m \u001b[1;31m#logit1=LogisticRegression(random_state=42,C=C,penalty=Penalty,class_weight='balanced').fit(x_train,y_train)\u001b[0m\u001b[1;33m\u001b[0m\u001b[1;33m\u001b[0m\u001b[1;33m\u001b[0m\u001b[0m\n\u001b[1;32m----> 6\u001b[1;33m \u001b[0mtrain_score\u001b[0m\u001b[1;33m=\u001b[0m\u001b[0mlogit1\u001b[0m\u001b[1;33m.\u001b[0m\u001b[0mscore\u001b[0m\u001b[1;33m(\u001b[0m\u001b[0mx_train\u001b[0m\u001b[1;33m,\u001b[0m\u001b[0my_train\u001b[0m\u001b[1;33m)\u001b[0m\u001b[1;33m\u001b[0m\u001b[1;33m\u001b[0m\u001b[0m\n\u001b[0m\u001b[0;32m      7\u001b[0m \u001b[0mtest_score\u001b[0m\u001b[1;33m=\u001b[0m\u001b[0mlogit1\u001b[0m\u001b[1;33m.\u001b[0m\u001b[0mscore\u001b[0m\u001b[1;33m(\u001b[0m\u001b[0mx_test\u001b[0m\u001b[1;33m,\u001b[0m\u001b[0my_test\u001b[0m\u001b[1;33m)\u001b[0m\u001b[1;33m\u001b[0m\u001b[1;33m\u001b[0m\u001b[0m\n\u001b[0;32m      8\u001b[0m \u001b[0mprint\u001b[0m\u001b[1;33m(\u001b[0m\u001b[0mgrid1\u001b[0m\u001b[1;33m.\u001b[0m\u001b[0mbest_params_\u001b[0m\u001b[1;33m)\u001b[0m\u001b[1;33m\u001b[0m\u001b[1;33m\u001b[0m\u001b[0m\n",
      "\u001b[1;31mNameError\u001b[0m: name 'logit1' is not defined"
     ]
    }
   ],
   "source": [
    "#grid1.fit(X1,Y1)\n",
    "#params=list(grid1.best_params_.values())\n",
    "#C,Penalty=params\n",
    "#x_train,x_test,y_train,y_test=train_test_split(X1,Y1,test_size=0.2,random_state=42,stratify=Y1)\n",
    "#logit1=LogisticRegression(random_state=42,C=C,penalty=Penalty,class_weight='balanced').fit(x_train,y_train)\n",
    "train_score=logit1.score(x_train,y_train)\n",
    "test_score=logit1.score(x_test,y_test)\n",
    "print(grid1.best_params_)\n",
    "print(\"Train score is %s and Test score is%s\"%(train_score,test_score))\n",
    "print(\"cross_validation score is %s\"% (np.mean(cross_val_score(LogisticRegression(random_state=42,C=C,penalty=Penalty,class_weight='balanced'),X1,Y1,cv=5))))\n",
    "y_pred=logit1.predict(x_test)\n",
    "y_pred2=logit1.predict(x_train)\n",
    "print(classification_report(y_test,logit1.predict(x_test)))\n",
    "print(\"roc_auc: for test is\",roc_auc_score(y_test,y_pred))\n",
    "print(\"roc_auc: for train is\",roc_auc_score(y_train,y_pred2))\n",
    "print(\"average Roc_score is\",grid1.best_score_)\n",
    "print(\"recall for train\",recall_score(y_train,y_pred2))\n",
    "print(\"recall for test\",recall_score(y_test,y_pred))"
   ]
  },
  {
   "cell_type": "code",
   "execution_count": null,
   "metadata": {},
   "outputs": [],
   "source": [
    "data.columns"
   ]
  },
  {
   "cell_type": "code",
   "execution_count": 250,
   "metadata": {
    "scrolled": true
   },
   "outputs": [
    {
     "name": "stderr",
     "output_type": "stream",
     "text": [
      "C:\\ProgramData\\Anaconda3\\lib\\site-packages\\pandas\\core\\frame.py:3697: SettingWithCopyWarning: \n",
      "A value is trying to be set on a copy of a slice from a DataFrame\n",
      "\n",
      "See the caveats in the documentation: http://pandas.pydata.org/pandas-docs/stable/indexing.html#indexing-view-versus-copy\n",
      "  errors=errors)\n"
     ]
    }
   ],
   "source": [
    "z=data[:1]\n",
    "z.drop(columns=\"sold\",inplace=True)\n",
    "#z[\"price\"]=2000\n",
    "df_num=z.select_dtypes(exclude=\"object\")## we divide data in this groups to check variance, \n",
    "df_object=z.select_dtypes(include=\"object\")\n",
    "df_dummies=pd.get_dummies(df_object,prefix=df_object.columns,drop_first=False)\n",
    "new=df_num.join(df_dummies)#if there is exict a column containing only one value\n",
    "\n",
    "print(new)\n",
    "#new[\"price\"]=0\n",
    "\n",
    "for i in X1.columns:\n",
    "    if i not in new.columns:\n",
    "        new[i]=0\n",
    "new\n",
    "\n",
    "for i in new.columns:\n",
    "    if i not in X1.columns:\n",
    "        del new[i]\n",
    "\n",
    "grid1.predict_proba(new)"
   ]
  },
  {
   "cell_type": "code",
   "execution_count": 5,
   "metadata": {},
   "outputs": [],
   "source": [
    "import pandas as pd\n",
    "data=pd.read_csv(\"final.csv\")"
   ]
  },
  {
   "cell_type": "code",
   "execution_count": 1,
   "metadata": {},
   "outputs": [
    {
     "ename": "NameError",
     "evalue": "name 'grid1' is not defined",
     "output_type": "error",
     "traceback": [
      "\u001b[1;31m---------------------------------------------------------------------------\u001b[0m",
      "\u001b[1;31mNameError\u001b[0m                                 Traceback (most recent call last)",
      "\u001b[1;32m<ipython-input-1-be21b5768460>\u001b[0m in \u001b[0;36m<module>\u001b[1;34m\u001b[0m\n\u001b[0;32m      1\u001b[0m \u001b[1;32mfrom\u001b[0m \u001b[0mjoblib\u001b[0m \u001b[1;32mimport\u001b[0m \u001b[0mdump\u001b[0m\u001b[1;33m,\u001b[0m \u001b[0mload\u001b[0m\u001b[1;33m\u001b[0m\u001b[1;33m\u001b[0m\u001b[0m\n\u001b[1;32m----> 2\u001b[1;33m \u001b[0mdump\u001b[0m\u001b[1;33m(\u001b[0m\u001b[0mgrid1\u001b[0m\u001b[1;33m,\u001b[0m \u001b[1;34m'logit.joblib'\u001b[0m\u001b[1;33m)\u001b[0m\u001b[1;33m\u001b[0m\u001b[1;33m\u001b[0m\u001b[0m\n\u001b[0m\u001b[0;32m      3\u001b[0m \u001b[1;31m#clf = load('filename.joblib')\u001b[0m\u001b[1;33m\u001b[0m\u001b[1;33m\u001b[0m\u001b[1;33m\u001b[0m\u001b[0m\n",
      "\u001b[1;31mNameError\u001b[0m: name 'grid1' is not defined"
     ]
    }
   ],
   "source": [
    "from joblib import dump, load\n",
    "dump(grid1, 'logit.joblib') \n",
    "clf = load('filename.joblib')"
   ]
  },
  {
   "cell_type": "code",
   "execution_count": 3,
   "metadata": {},
   "outputs": [
    {
     "name": "stderr",
     "output_type": "stream",
     "text": [
      "C:\\Users\\Vazgen\\AppData\\Roaming\\Python\\Python37\\site-packages\\sklearn\\base.py:253: UserWarning: Trying to unpickle estimator LogisticRegression from version 0.20.1 when using version 0.20.3. This might lead to breaking code or invalid results. Use at your own risk.\n",
      "  UserWarning)\n",
      "C:\\Users\\Vazgen\\AppData\\Roaming\\Python\\Python37\\site-packages\\sklearn\\base.py:253: UserWarning: Trying to unpickle estimator GridSearchCV from version 0.20.1 when using version 0.20.3. This might lead to breaking code or invalid results. Use at your own risk.\n",
      "  UserWarning)\n"
     ]
    }
   ],
   "source": [
    "clf = load('logit.joblib')"
   ]
  },
  {
   "cell_type": "code",
   "execution_count": null,
   "metadata": {},
   "outputs": [],
   "source": [
    "clf.predict()"
   ]
  },
  {
   "cell_type": "code",
   "execution_count": 7,
   "metadata": {},
   "outputs": [],
   "source": [
    "data=data[:1]"
   ]
  },
  {
   "cell_type": "code",
   "execution_count": 11,
   "metadata": {},
   "outputs": [
    {
     "data": {
      "text/html": [
       "<div>\n",
       "<style scoped>\n",
       "    .dataframe tbody tr th:only-of-type {\n",
       "        vertical-align: middle;\n",
       "    }\n",
       "\n",
       "    .dataframe tbody tr th {\n",
       "        vertical-align: top;\n",
       "    }\n",
       "\n",
       "    .dataframe thead th {\n",
       "        text-align: right;\n",
       "    }\n",
       "</style>\n",
       "<table border=\"1\" class=\"dataframe\">\n",
       "  <thead>\n",
       "    <tr style=\"text-align: right;\">\n",
       "      <th></th>\n",
       "      <th>price</th>\n",
       "      <th>year</th>\n",
       "      <th>Horsepower</th>\n",
       "      <th>Engine_Cylinders</th>\n",
       "      <th>Engine_Volume</th>\n",
       "      <th>Mileage</th>\n",
       "      <th>brand_Opel</th>\n",
       "      <th>model_Astra</th>\n",
       "      <th>Color_black</th>\n",
       "      <th>Body_Style_Hatchback</th>\n",
       "      <th>Hand_Drive_Left</th>\n",
       "      <th>Engine_Petrol</th>\n",
       "      <th>Gearbox_Mechanical</th>\n",
       "      <th>sold_No</th>\n",
       "    </tr>\n",
       "  </thead>\n",
       "  <tbody>\n",
       "    <tr>\n",
       "      <th>0</th>\n",
       "      <td>3000.0</td>\n",
       "      <td>2003</td>\n",
       "      <td>NaN</td>\n",
       "      <td>NaN</td>\n",
       "      <td>NaN</td>\n",
       "      <td>140000.0</td>\n",
       "      <td>1</td>\n",
       "      <td>1</td>\n",
       "      <td>1</td>\n",
       "      <td>1</td>\n",
       "      <td>1</td>\n",
       "      <td>1</td>\n",
       "      <td>1</td>\n",
       "      <td>1</td>\n",
       "    </tr>\n",
       "  </tbody>\n",
       "</table>\n",
       "</div>"
      ],
      "text/plain": [
       "    price  year  Horsepower  Engine_Cylinders  Engine_Volume   Mileage  \\\n",
       "0  3000.0  2003         NaN               NaN            NaN  140000.0   \n",
       "\n",
       "   brand_Opel  model_Astra   Color_black  Body_Style_Hatchback  \\\n",
       "0           1             1            1                     1   \n",
       "\n",
       "   Hand_Drive_Left  Engine_Petrol  Gearbox_Mechanical  sold_No  \n",
       "0                1              1                   1        1  "
      ]
     },
     "execution_count": 11,
     "metadata": {},
     "output_type": "execute_result"
    }
   ],
   "source": [
    "df_num=data.select_dtypes(exclude=\"object\")## we divide data in this groups to check variance, \n",
    "df_object=data.select_dtypes(include=\"object\")#if there is exict a column containing only one value\n",
    "df_dummies=pd.get_dummies(df_object,prefix=df_object.columns,drop_first=False)\n",
    "new=df_num.join(df_dummies)\n",
    "new"
   ]
  },
  {
   "cell_type": "code",
   "execution_count": 19,
   "metadata": {},
   "outputs": [
    {
     "ename": "NameError",
     "evalue": "name 'tree' is not defined",
     "output_type": "error",
     "traceback": [
      "\u001b[1;31m---------------------------------------------------------------------------\u001b[0m",
      "\u001b[1;31mNameError\u001b[0m                                 Traceback (most recent call last)",
      "\u001b[1;32m<ipython-input-19-8322bf8a827d>\u001b[0m in \u001b[0;36m<module>\u001b[1;34m\u001b[0m\n\u001b[0;32m      1\u001b[0m \u001b[1;31m#ROC curve\u001b[0m\u001b[1;33m\u001b[0m\u001b[1;33m\u001b[0m\u001b[1;33m\u001b[0m\u001b[0m\n\u001b[1;32m----> 2\u001b[1;33m \u001b[0mFPR\u001b[0m\u001b[1;33m,\u001b[0m\u001b[0mTPR\u001b[0m\u001b[1;33m,\u001b[0m\u001b[0mtresholds\u001b[0m\u001b[1;33m=\u001b[0m\u001b[0mroc_curve\u001b[0m\u001b[1;33m(\u001b[0m\u001b[0my_test\u001b[0m\u001b[1;33m,\u001b[0m\u001b[0mtree\u001b[0m\u001b[1;33m.\u001b[0m\u001b[0mpredict_proba\u001b[0m\u001b[1;33m(\u001b[0m\u001b[0mx_test\u001b[0m\u001b[1;33m)\u001b[0m\u001b[1;33m[\u001b[0m\u001b[1;33m:\u001b[0m\u001b[1;33m,\u001b[0m\u001b[1;36m1\u001b[0m\u001b[1;33m]\u001b[0m\u001b[1;33m)\u001b[0m\u001b[1;33m\u001b[0m\u001b[1;33m\u001b[0m\u001b[0m\n\u001b[0m\u001b[0;32m      3\u001b[0m \u001b[0mplt\u001b[0m\u001b[1;33m.\u001b[0m\u001b[0mplot\u001b[0m\u001b[1;33m(\u001b[0m\u001b[0mFPR\u001b[0m\u001b[1;33m,\u001b[0m\u001b[0mTPR\u001b[0m\u001b[1;33m,\u001b[0m\u001b[0mlabel\u001b[0m\u001b[1;33m=\u001b[0m\u001b[1;34m\"ROC AUC=%f\"\u001b[0m\u001b[1;33m%\u001b[0m\u001b[0mroc_auc_score\u001b[0m\u001b[1;33m(\u001b[0m\u001b[0my_test\u001b[0m\u001b[1;33m,\u001b[0m\u001b[0my_pred\u001b[0m\u001b[1;33m)\u001b[0m\u001b[1;33m)\u001b[0m\u001b[1;33m\u001b[0m\u001b[1;33m\u001b[0m\u001b[0m\n\u001b[0;32m      4\u001b[0m \u001b[0mplt\u001b[0m\u001b[1;33m.\u001b[0m\u001b[0mplot\u001b[0m\u001b[1;33m(\u001b[0m\u001b[1;33m[\u001b[0m\u001b[1;36m0\u001b[0m\u001b[1;33m,\u001b[0m\u001b[1;36m1\u001b[0m\u001b[1;33m]\u001b[0m\u001b[1;33m,\u001b[0m\u001b[1;33m[\u001b[0m\u001b[1;36m0\u001b[0m\u001b[1;33m,\u001b[0m\u001b[1;36m1\u001b[0m\u001b[1;33m]\u001b[0m\u001b[1;33m)\u001b[0m\u001b[1;33m\u001b[0m\u001b[1;33m\u001b[0m\u001b[0m\n\u001b[0;32m      5\u001b[0m \u001b[0mplt\u001b[0m\u001b[1;33m.\u001b[0m\u001b[0mlegend\u001b[0m\u001b[1;33m(\u001b[0m\u001b[0mloc\u001b[0m\u001b[1;33m=\u001b[0m\u001b[1;34m\"lower right\"\u001b[0m\u001b[1;33m)\u001b[0m\u001b[1;33m\u001b[0m\u001b[1;33m\u001b[0m\u001b[0m\n",
      "\u001b[1;31mNameError\u001b[0m: name 'tree' is not defined"
     ]
    }
   ],
   "source": [
    "#ROC curve\n",
    "FPR,TPR,tresholds=roc_curve(y_test,tree.predict_proba(x_test)[:,1])\n",
    "plt.plot(FPR,TPR,label=\"ROC AUC=%f\"%roc_auc_score(y_test,y_pred))\n",
    "plt.plot([0,1],[0,1])\n",
    "plt.legend(loc=\"lower right\")\n",
    "plt.xlabel(\"FPR\")\n",
    "plt.ylabel(\"TPR\")\n",
    "plt.show()"
   ]
  },
  {
   "cell_type": "code",
   "execution_count": null,
   "metadata": {},
   "outputs": [],
   "source": []
  },
  {
   "cell_type": "markdown",
   "metadata": {},
   "source": [
    "## From the result we can say that our data cleaning did  positive affect on model, it increase recall and roc score, but however it is still bias and did not reach benchmark.\n"
   ]
  },
  {
   "cell_type": "markdown",
   "metadata": {},
   "source": [
    "# Decision tree\n",
    "<h3>For decision tree we do not have to drop correlated variables so lets add them to corrected_dataframe"
   ]
  },
  {
   "cell_type": "code",
   "execution_count": 44,
   "metadata": {
    "scrolled": true
   },
   "outputs": [
    {
     "name": "stdout",
     "output_type": "stream",
     "text": [
      "{'max_depth': 22, 'min_samples_leaf': 50}\n",
      "Train score is 0.6359972868371704 and Test score is0.5884934567507182\n",
      "cross_validation score is 0.5894054879233049\n",
      "              precision    recall  f1-score   support\n",
      "\n",
      "           0       0.78      0.58      0.67      8814\n",
      "           1       0.38      0.60      0.46      3718\n",
      "\n",
      "   micro avg       0.59      0.59      0.59     12532\n",
      "   macro avg       0.58      0.59      0.57     12532\n",
      "weighted avg       0.66      0.59      0.61     12532\n",
      "\n",
      "roc_auc: for test is 0.592068641592127\n",
      "roc_auc: for train is 0.6495733334507222\n",
      "average Roc_score is 0.6305677577273717\n",
      "recall for train 0.682961269499731\n",
      "recall for test 0.6008606777837547\n"
     ]
    }
   ],
   "source": [
    "data3=df_num.join(df_dummies)##corrected dataframe is different from corrected1 it include correleted variables\n",
    "Y3=data3.sold_Yes\n",
    "X3=data3.drop(\"sold_Yes\",axis=1)\n",
    "grid3=GridSearchCV(DecisionTreeClassifier(random_state=42,class_weight=\"balanced\"),\n",
    "             param_grid={\"max_depth\":range(10,30),\n",
    "                         \"min_samples_leaf\":range(40,60,10),\n",
    "                         },scoring=\"roc_auc\",cv=5,n_jobs=-1).fit(X3,Y3)\n",
    "params=list(grid3.best_params_.values())\n",
    "depth,leafs=params\n",
    "x_train,x_test,y_train,y_test=train_test_split(X3,Y3,test_size=0.2,random_state=42,stratify=Y3)\n",
    "tree=DecisionTreeClassifier(random_state=42,class_weight=\"balanced\",max_depth=depth,min_samples_leaf=leafs).fit(x_train,y_train)\n",
    "train_score=tree.score(x_train,y_train)\n",
    "test_score=tree.score(x_test,y_test)\n",
    "print(grid3.best_params_)\n",
    "print(\"Train score is %s and Test score is%s\"%(train_score,test_score))\n",
    "print(\"cross_validation score is %s\"% (np.mean(cross_val_score(DecisionTreeClassifier(random_state=42,class_weight=\"balanced\",max_depth=depth,min_samples_leaf=leafs),X3,Y3,cv=5))))\n",
    "y_pred=tree.predict(x_test)\n",
    "y_pred2=tree.predict(x_train)\n",
    "print(classification_report(y_test,tree.predict(x_test)))\n",
    "print(\"roc_auc: for test is\",roc_auc_score(y_test,y_pred))\n",
    "print(\"roc_auc: for train is\",roc_auc_score(y_train,y_pred2))\n",
    "print(\"average Roc_score is\",grid3.best_score_)\n",
    "print(\"recall for train\",recall_score(y_train,y_pred2))\n",
    "print(\"recall for test\",recall_score(y_test,y_pred))"
   ]
  },
  {
   "cell_type": "code",
   "execution_count": 39,
   "metadata": {},
   "outputs": [
    {
     "data": {
      "image/png": "[encoded data removed]",
      "text/plain": [
       "<Figure size 432x288 with 1 Axes>"
      ]
     },
     "metadata": {
      "needs_background": "light"
     },
     "output_type": "display_data"
    }
   ],
   "source": [
    "#ROC curve\n",
    "FPR,TPR,tresholds=roc_curve(y_test,tree.predict_proba(x_test)[:,1])\n",
    "plt.plot(FPR,TPR,label=\"ROC AUC=%f\"%roc_auc_score(y_test,y_pred))\n",
    "plt.plot([0,1],[0,1])\n",
    "plt.legend(loc=\"lower right\")\n",
    "plt.xlabel(\"FPR\")\n",
    "plt.ylabel(\"TPR\")\n",
    "plt.show()"
   ]
  },
  {
   "cell_type": "code",
   "execution_count": 32,
   "metadata": {},
   "outputs": [
    {
     "name": "stdout",
     "output_type": "stream",
     "text": [
      "Warning: Maximum number of iterations has been exceeded.\n",
      "         Current function value: 0.294841\n",
      "         Iterations: 35\n"
     ]
    },
    {
     "name": "stderr",
     "output_type": "stream",
     "text": [
      "C:\\Users\\user\\Anaconda3\\lib\\site-packages\\statsmodels\\base\\model.py:508: ConvergenceWarning: Maximum Likelihood optimization failed to converge. Check mle_retvals\n",
      "  \"Check mle_retvals\", ConvergenceWarning)\n"
     ]
    },
    {
     "data": {
      "text/html": [
       "<table class=\"simpletable\">\n",
       "<caption>Logit Regression Results</caption>\n",
       "<tr>\n",
       "  <th>Dep. Variable:</th>     <td>Attrition</td>    <th>  No. Observations:  </th>  <td>  1470</td>  \n",
       "</tr>\n",
       "<tr>\n",
       "  <th>Model:</th>               <td>Logit</td>      <th>  Df Residuals:      </th>  <td>  1427</td>  \n",
       "</tr>\n",
       "<tr>\n",
       "  <th>Method:</th>               <td>MLE</td>       <th>  Df Model:          </th>  <td>    42</td>  \n",
       "</tr>\n",
       "<tr>\n",
       "  <th>Date:</th>          <td>Mon, 26 Nov 2018</td> <th>  Pseudo R-squ.:     </th>  <td>0.3325</td>  \n",
       "</tr>\n",
       "<tr>\n",
       "  <th>Time:</th>              <td>16:00:24</td>     <th>  Log-Likelihood:    </th> <td> -433.42</td> \n",
       "</tr>\n",
       "<tr>\n",
       "  <th>converged:</th>           <td>False</td>      <th>  LL-Null:           </th> <td> -649.29</td> \n",
       "</tr>\n",
       "<tr>\n",
       "  <th> </th>                      <td> </td>        <th>  LLR p-value:       </th> <td>3.860e-66</td>\n",
       "</tr>\n",
       "</table>\n",
       "<table class=\"simpletable\">\n",
       "<tr>\n",
       "                    <td></td>                      <th>coef</th>     <th>std err</th>      <th>z</th>      <th>P>|z|</th>  <th>[0.025</th>    <th>0.975]</th>  \n",
       "</tr>\n",
       "<tr>\n",
       "  <th>Intercept</th>                            <td>  -11.9297</td> <td> 1193.658</td> <td>   -0.010</td> <td> 0.992</td> <td>-2351.456</td> <td> 2327.597</td>\n",
       "</tr>\n",
       "<tr>\n",
       "  <th>BusinessTravel[T.Travel_Frequently]</th>  <td>    1.8964</td> <td>    0.413</td> <td>    4.596</td> <td> 0.000</td> <td>    1.088</td> <td>    2.705</td>\n",
       "</tr>\n",
       "<tr>\n",
       "  <th>BusinessTravel[T.Travel_Rarely]</th>      <td>    1.0033</td> <td>    0.380</td> <td>    2.640</td> <td> 0.008</td> <td>    0.258</td> <td>    1.748</td>\n",
       "</tr>\n",
       "<tr>\n",
       "  <th>Department[T.Research & Development]</th> <td>   13.7624</td> <td> 1193.657</td> <td>    0.012</td> <td> 0.991</td> <td>-2325.762</td> <td> 2353.287</td>\n",
       "</tr>\n",
       "<tr>\n",
       "  <th>Department[T.Sales]</th>                  <td>   13.6448</td> <td> 1193.657</td> <td>    0.011</td> <td> 0.991</td> <td>-2325.880</td> <td> 2353.170</td>\n",
       "</tr>\n",
       "<tr>\n",
       "  <th>EducationField[T.Life Sciences]</th>      <td>   -0.7292</td> <td>    0.800</td> <td>   -0.911</td> <td> 0.362</td> <td>   -2.297</td> <td>    0.839</td>\n",
       "</tr>\n",
       "<tr>\n",
       "  <th>EducationField[T.Marketing]</th>          <td>   -0.3465</td> <td>    0.849</td> <td>   -0.408</td> <td> 0.683</td> <td>   -2.010</td> <td>    1.317</td>\n",
       "</tr>\n",
       "<tr>\n",
       "  <th>EducationField[T.Medical]</th>            <td>   -0.7918</td> <td>    0.800</td> <td>   -0.990</td> <td> 0.322</td> <td>   -2.360</td> <td>    0.777</td>\n",
       "</tr>\n",
       "<tr>\n",
       "  <th>EducationField[T.Other]</th>              <td>   -0.8720</td> <td>    0.860</td> <td>   -1.013</td> <td> 0.311</td> <td>   -2.559</td> <td>    0.815</td>\n",
       "</tr>\n",
       "<tr>\n",
       "  <th>EducationField[T.Technical Degree]</th>   <td>    0.1332</td> <td>    0.818</td> <td>    0.163</td> <td> 0.871</td> <td>   -1.470</td> <td>    1.737</td>\n",
       "</tr>\n",
       "<tr>\n",
       "  <th>Gender[T.Male]</th>                       <td>    0.4108</td> <td>    0.184</td> <td>    2.231</td> <td> 0.026</td> <td>    0.050</td> <td>    0.772</td>\n",
       "</tr>\n",
       "<tr>\n",
       "  <th>JobRole[T.Human Resources]</th>           <td>   15.1622</td> <td> 1193.657</td> <td>    0.013</td> <td> 0.990</td> <td>-2324.363</td> <td> 2354.687</td>\n",
       "</tr>\n",
       "<tr>\n",
       "  <th>JobRole[T.Laboratory Technician]</th>     <td>    1.5644</td> <td>    0.471</td> <td>    3.323</td> <td> 0.001</td> <td>    0.642</td> <td>    2.487</td>\n",
       "</tr>\n",
       "<tr>\n",
       "  <th>JobRole[T.Manager]</th>                   <td>    0.3168</td> <td>    0.869</td> <td>    0.365</td> <td> 0.715</td> <td>   -1.386</td> <td>    2.019</td>\n",
       "</tr>\n",
       "<tr>\n",
       "  <th>JobRole[T.Manufacturing Director]</th>    <td>    0.1438</td> <td>    0.533</td> <td>    0.270</td> <td> 0.787</td> <td>   -0.900</td> <td>    1.188</td>\n",
       "</tr>\n",
       "<tr>\n",
       "  <th>JobRole[T.Research Director]</th>         <td>   -1.1078</td> <td>    0.948</td> <td>   -1.169</td> <td> 0.242</td> <td>   -2.965</td> <td>    0.750</td>\n",
       "</tr>\n",
       "<tr>\n",
       "  <th>JobRole[T.Research Scientist]</th>        <td>    0.6635</td> <td>    0.477</td> <td>    1.391</td> <td> 0.164</td> <td>   -0.271</td> <td>    1.598</td>\n",
       "</tr>\n",
       "<tr>\n",
       "  <th>JobRole[T.Sales Executive]</th>           <td>    1.1004</td> <td>    1.121</td> <td>    0.982</td> <td> 0.326</td> <td>   -1.096</td> <td>    3.297</td>\n",
       "</tr>\n",
       "<tr>\n",
       "  <th>JobRole[T.Sales Representative]</th>      <td>    2.1879</td> <td>    1.164</td> <td>    1.880</td> <td> 0.060</td> <td>   -0.093</td> <td>    4.469</td>\n",
       "</tr>\n",
       "<tr>\n",
       "  <th>MaritalStatus[T.Married]</th>             <td>    0.2643</td> <td>    0.265</td> <td>    0.998</td> <td> 0.318</td> <td>   -0.255</td> <td>    0.784</td>\n",
       "</tr>\n",
       "<tr>\n",
       "  <th>MaritalStatus[T.Single]</th>              <td>    1.0913</td> <td>    0.343</td> <td>    3.186</td> <td> 0.001</td> <td>    0.420</td> <td>    1.763</td>\n",
       "</tr>\n",
       "<tr>\n",
       "  <th>OverTime[T.Yes]</th>                      <td>    1.9807</td> <td>    0.193</td> <td>   10.255</td> <td> 0.000</td> <td>    1.602</td> <td>    2.359</td>\n",
       "</tr>\n",
       "<tr>\n",
       "  <th>Age</th>                                  <td>   -0.0291</td> <td>    0.013</td> <td>   -2.175</td> <td> 0.030</td> <td>   -0.055</td> <td>   -0.003</td>\n",
       "</tr>\n",
       "<tr>\n",
       "  <th>DailyRate</th>                            <td>   -0.0003</td> <td>    0.000</td> <td>   -1.340</td> <td> 0.180</td> <td>   -0.001</td> <td>    0.000</td>\n",
       "</tr>\n",
       "<tr>\n",
       "  <th>DistanceFromHome</th>                     <td>    0.0444</td> <td>    0.011</td> <td>    4.153</td> <td> 0.000</td> <td>    0.023</td> <td>    0.065</td>\n",
       "</tr>\n",
       "<tr>\n",
       "  <th>Education</th>                            <td>    0.0085</td> <td>    0.087</td> <td>    0.097</td> <td> 0.923</td> <td>   -0.163</td> <td>    0.180</td>\n",
       "</tr>\n",
       "<tr>\n",
       "  <th>EnvironmentSatisfaction</th>              <td>   -0.4271</td> <td>    0.082</td> <td>   -5.188</td> <td> 0.000</td> <td>   -0.588</td> <td>   -0.266</td>\n",
       "</tr>\n",
       "<tr>\n",
       "  <th>HourlyRate</th>                           <td>    0.0016</td> <td>    0.004</td> <td>    0.358</td> <td> 0.721</td> <td>   -0.007</td> <td>    0.010</td>\n",
       "</tr>\n",
       "<tr>\n",
       "  <th>JobInvolvement</th>                       <td>   -0.5497</td> <td>    0.122</td> <td>   -4.517</td> <td> 0.000</td> <td>   -0.788</td> <td>   -0.311</td>\n",
       "</tr>\n",
       "<tr>\n",
       "  <th>JobSatisfaction</th>                      <td>   -0.3964</td> <td>    0.081</td> <td>   -4.924</td> <td> 0.000</td> <td>   -0.554</td> <td>   -0.239</td>\n",
       "</tr>\n",
       "<tr>\n",
       "  <th>MonthlyIncome</th>                        <td> 4.303e-05</td> <td> 5.95e-05</td> <td>    0.723</td> <td> 0.469</td> <td>-7.36e-05</td> <td>    0.000</td>\n",
       "</tr>\n",
       "<tr>\n",
       "  <th>MonthlyRate</th>                          <td> 4.631e-06</td> <td> 1.24e-05</td> <td>    0.373</td> <td> 0.709</td> <td>-1.97e-05</td> <td>  2.9e-05</td>\n",
       "</tr>\n",
       "<tr>\n",
       "  <th>NumCompaniesWorked</th>                   <td>    0.1897</td> <td>    0.040</td> <td>    4.781</td> <td> 0.000</td> <td>    0.112</td> <td>    0.268</td>\n",
       "</tr>\n",
       "<tr>\n",
       "  <th>PercentSalaryHike</th>                    <td>   -0.0242</td> <td>    0.039</td> <td>   -0.619</td> <td> 0.536</td> <td>   -0.101</td> <td>    0.052</td>\n",
       "</tr>\n",
       "<tr>\n",
       "  <th>PerformanceRating</th>                    <td>    0.1483</td> <td>    0.397</td> <td>    0.374</td> <td> 0.709</td> <td>   -0.630</td> <td>    0.926</td>\n",
       "</tr>\n",
       "<tr>\n",
       "  <th>RelationshipSatisfaction</th>             <td>   -0.2517</td> <td>    0.082</td> <td>   -3.064</td> <td> 0.002</td> <td>   -0.413</td> <td>   -0.091</td>\n",
       "</tr>\n",
       "<tr>\n",
       "  <th>StockOptionLevel</th>                     <td>   -0.2170</td> <td>    0.157</td> <td>   -1.381</td> <td> 0.167</td> <td>   -0.525</td> <td>    0.091</td>\n",
       "</tr>\n",
       "<tr>\n",
       "  <th>TotalWorkingYears</th>                    <td>   -0.0618</td> <td>    0.027</td> <td>   -2.260</td> <td> 0.024</td> <td>   -0.115</td> <td>   -0.008</td>\n",
       "</tr>\n",
       "<tr>\n",
       "  <th>TrainingTimesLastYear</th>                <td>   -0.1695</td> <td>    0.083</td> <td>   -2.046</td> <td> 0.041</td> <td>   -0.332</td> <td>   -0.007</td>\n",
       "</tr>\n",
       "<tr>\n",
       "  <th>WorkLifeBalance</th>                      <td>   -0.3799</td> <td>    0.123</td> <td>   -3.080</td> <td> 0.002</td> <td>   -0.622</td> <td>   -0.138</td>\n",
       "</tr>\n",
       "<tr>\n",
       "  <th>YearsInCurrentRole</th>                   <td>   -0.1207</td> <td>    0.045</td> <td>   -2.674</td> <td> 0.007</td> <td>   -0.209</td> <td>   -0.032</td>\n",
       "</tr>\n",
       "<tr>\n",
       "  <th>YearsSinceLastPromotion</th>              <td>    0.2203</td> <td>    0.047</td> <td>    4.732</td> <td> 0.000</td> <td>    0.129</td> <td>    0.312</td>\n",
       "</tr>\n",
       "<tr>\n",
       "  <th>YearsWithCurrManager</th>                 <td>   -0.0635</td> <td>    0.046</td> <td>   -1.379</td> <td> 0.168</td> <td>   -0.154</td> <td>    0.027</td>\n",
       "</tr>\n",
       "</table>"
      ],
      "text/plain": [
       "<class 'statsmodels.iolib.summary.Summary'>\n",
       "\"\"\"\n",
       "                           Logit Regression Results                           \n",
       "==============================================================================\n",
       "Dep. Variable:              Attrition   No. Observations:                 1470\n",
       "Model:                          Logit   Df Residuals:                     1427\n",
       "Method:                           MLE   Df Model:                           42\n",
       "Date:                Mon, 26 Nov 2018   Pseudo R-squ.:                  0.3325\n",
       "Time:                        16:00:24   Log-Likelihood:                -433.42\n",
       "converged:                      False   LL-Null:                       -649.29\n",
       "                                        LLR p-value:                 3.860e-66\n",
       "========================================================================================================\n",
       "                                           coef    std err          z      P>|z|      [0.025      0.975]\n",
       "--------------------------------------------------------------------------------------------------------\n",
       "Intercept                              -11.9297   1193.658     -0.010      0.992   -2351.456    2327.597\n",
       "BusinessTravel[T.Travel_Frequently]      1.8964      0.413      4.596      0.000       1.088       2.705\n",
       "BusinessTravel[T.Travel_Rarely]          1.0033      0.380      2.640      0.008       0.258       1.748\n",
       "Department[T.Research & Development]    13.7624   1193.657      0.012      0.991   -2325.762    2353.287\n",
       "Department[T.Sales]                     13.6448   1193.657      0.011      0.991   -2325.880    2353.170\n",
       "EducationField[T.Life Sciences]         -0.7292      0.800     -0.911      0.362      -2.297       0.839\n",
       "EducationField[T.Marketing]             -0.3465      0.849     -0.408      0.683      -2.010       1.317\n",
       "EducationField[T.Medical]               -0.7918      0.800     -0.990      0.322      -2.360       0.777\n",
       "EducationField[T.Other]                 -0.8720      0.860     -1.013      0.311      -2.559       0.815\n",
       "EducationField[T.Technical Degree]       0.1332      0.818      0.163      0.871      -1.470       1.737\n",
       "Gender[T.Male]                           0.4108      0.184      2.231      0.026       0.050       0.772\n",
       "JobRole[T.Human Resources]              15.1622   1193.657      0.013      0.990   -2324.363    2354.687\n",
       "JobRole[T.Laboratory Technician]         1.5644      0.471      3.323      0.001       0.642       2.487\n",
       "JobRole[T.Manager]                       0.3168      0.869      0.365      0.715      -1.386       2.019\n",
       "JobRole[T.Manufacturing Director]        0.1438      0.533      0.270      0.787      -0.900       1.188\n",
       "JobRole[T.Research Director]            -1.1078      0.948     -1.169      0.242      -2.965       0.750\n",
       "JobRole[T.Research Scientist]            0.6635      0.477      1.391      0.164      -0.271       1.598\n",
       "JobRole[T.Sales Executive]               1.1004      1.121      0.982      0.326      -1.096       3.297\n",
       "JobRole[T.Sales Representative]          2.1879      1.164      1.880      0.060      -0.093       4.469\n",
       "MaritalStatus[T.Married]                 0.2643      0.265      0.998      0.318      -0.255       0.784\n",
       "MaritalStatus[T.Single]                  1.0913      0.343      3.186      0.001       0.420       1.763\n",
       "OverTime[T.Yes]                          1.9807      0.193     10.255      0.000       1.602       2.359\n",
       "Age                                     -0.0291      0.013     -2.175      0.030      -0.055      -0.003\n",
       "DailyRate                               -0.0003      0.000     -1.340      0.180      -0.001       0.000\n",
       "DistanceFromHome                         0.0444      0.011      4.153      0.000       0.023       0.065\n",
       "Education                                0.0085      0.087      0.097      0.923      -0.163       0.180\n",
       "EnvironmentSatisfaction                 -0.4271      0.082     -5.188      0.000      -0.588      -0.266\n",
       "HourlyRate                               0.0016      0.004      0.358      0.721      -0.007       0.010\n",
       "JobInvolvement                          -0.5497      0.122     -4.517      0.000      -0.788      -0.311\n",
       "JobSatisfaction                         -0.3964      0.081     -4.924      0.000      -0.554      -0.239\n",
       "MonthlyIncome                         4.303e-05   5.95e-05      0.723      0.469   -7.36e-05       0.000\n",
       "MonthlyRate                           4.631e-06   1.24e-05      0.373      0.709   -1.97e-05     2.9e-05\n",
       "NumCompaniesWorked                       0.1897      0.040      4.781      0.000       0.112       0.268\n",
       "PercentSalaryHike                       -0.0242      0.039     -0.619      0.536      -0.101       0.052\n",
       "PerformanceRating                        0.1483      0.397      0.374      0.709      -0.630       0.926\n",
       "RelationshipSatisfaction                -0.2517      0.082     -3.064      0.002      -0.413      -0.091\n",
       "StockOptionLevel                        -0.2170      0.157     -1.381      0.167      -0.525       0.091\n",
       "TotalWorkingYears                       -0.0618      0.027     -2.260      0.024      -0.115      -0.008\n",
       "TrainingTimesLastYear                   -0.1695      0.083     -2.046      0.041      -0.332      -0.007\n",
       "WorkLifeBalance                         -0.3799      0.123     -3.080      0.002      -0.622      -0.138\n",
       "YearsInCurrentRole                      -0.1207      0.045     -2.674      0.007      -0.209      -0.032\n",
       "YearsSinceLastPromotion                  0.2203      0.047      4.732      0.000       0.129       0.312\n",
       "YearsWithCurrManager                    -0.0635      0.046     -1.379      0.168      -0.154       0.027\n",
       "========================================================================================================\n",
       "\"\"\""
      ]
     },
     "execution_count": 32,
     "metadata": {},
     "output_type": "execute_result"
    }
   ],
   "source": [
    "data4=corrected1.join(df_object)\n",
    "data4.Attrition=data4.Attrition.apply(lambda x:1 if x==\"Yes\" else 0 )\n",
    "#let's get formula for logistic regression\n",
    "formula=\"Attrition~\"+\"+\".join(data4.drop(\"Attrition\",axis=1).columns)\n",
    "logit1=Logit.from_formula(formula=formula,data=data4).fit()\n",
    "logit1.summary()"
   ]
  },
  {
   "cell_type": "code",
   "execution_count": 33,
   "metadata": {},
   "outputs": [
    {
     "name": "stderr",
     "output_type": "stream",
     "text": [
      "C:\\Users\\user\\Anaconda3\\lib\\importlib\\_bootstrap.py:219: ImportWarning: can't resolve package from __spec__ or __package__, falling back on __name__ and __path__\n",
      "  return f(*args, **kwds)\n"
     ]
    },
    {
     "data": {
      "text/html": [
       "<div>\n",
       "<style scoped>\n",
       "    .dataframe tbody tr th:only-of-type {\n",
       "        vertical-align: middle;\n",
       "    }\n",
       "\n",
       "    .dataframe tbody tr th {\n",
       "        vertical-align: top;\n",
       "    }\n",
       "\n",
       "    .dataframe thead th {\n",
       "        text-align: right;\n",
       "    }\n",
       "</style>\n",
       "<table border=\"1\" class=\"dataframe\">\n",
       "  <thead>\n",
       "    <tr style=\"text-align: right;\">\n",
       "      <th></th>\n",
       "      <th>Unnamed: 0</th>\n",
       "      <th>coef</th>\n",
       "      <th>std err</th>\n",
       "      <th>z</th>\n",
       "      <th>P&gt;|z|</th>\n",
       "      <th>[0.025</th>\n",
       "      <th>0.975]</th>\n",
       "    </tr>\n",
       "  </thead>\n",
       "  <tbody>\n",
       "    <tr>\n",
       "      <th>1</th>\n",
       "      <td>BusinessTravel[T.Travel_Frequently]</td>\n",
       "      <td>1.8964</td>\n",
       "      <td>0.413</td>\n",
       "      <td>4.596</td>\n",
       "      <td>0.000</td>\n",
       "      <td>1.088</td>\n",
       "      <td>2.705</td>\n",
       "    </tr>\n",
       "    <tr>\n",
       "      <th>2</th>\n",
       "      <td>BusinessTravel[T.Travel_Rarely]</td>\n",
       "      <td>1.0033</td>\n",
       "      <td>0.380</td>\n",
       "      <td>2.640</td>\n",
       "      <td>0.008</td>\n",
       "      <td>0.258</td>\n",
       "      <td>1.748</td>\n",
       "    </tr>\n",
       "    <tr>\n",
       "      <th>10</th>\n",
       "      <td>Gender[T.Male]</td>\n",
       "      <td>0.4108</td>\n",
       "      <td>0.184</td>\n",
       "      <td>2.231</td>\n",
       "      <td>0.026</td>\n",
       "      <td>0.050</td>\n",
       "      <td>0.772</td>\n",
       "    </tr>\n",
       "    <tr>\n",
       "      <th>12</th>\n",
       "      <td>JobRole[T.Laboratory Technician]</td>\n",
       "      <td>1.5644</td>\n",
       "      <td>0.471</td>\n",
       "      <td>3.323</td>\n",
       "      <td>0.001</td>\n",
       "      <td>0.642</td>\n",
       "      <td>2.487</td>\n",
       "    </tr>\n",
       "    <tr>\n",
       "      <th>20</th>\n",
       "      <td>MaritalStatus[T.Single]</td>\n",
       "      <td>1.0913</td>\n",
       "      <td>0.343</td>\n",
       "      <td>3.186</td>\n",
       "      <td>0.001</td>\n",
       "      <td>0.420</td>\n",
       "      <td>1.763</td>\n",
       "    </tr>\n",
       "    <tr>\n",
       "      <th>21</th>\n",
       "      <td>OverTime[T.Yes]</td>\n",
       "      <td>1.9807</td>\n",
       "      <td>0.193</td>\n",
       "      <td>10.255</td>\n",
       "      <td>0.000</td>\n",
       "      <td>1.602</td>\n",
       "      <td>2.359</td>\n",
       "    </tr>\n",
       "    <tr>\n",
       "      <th>22</th>\n",
       "      <td>Age</td>\n",
       "      <td>-0.0291</td>\n",
       "      <td>0.013</td>\n",
       "      <td>-2.175</td>\n",
       "      <td>0.030</td>\n",
       "      <td>-0.055</td>\n",
       "      <td>-0.003</td>\n",
       "    </tr>\n",
       "    <tr>\n",
       "      <th>24</th>\n",
       "      <td>DistanceFromHome</td>\n",
       "      <td>0.0444</td>\n",
       "      <td>0.011</td>\n",
       "      <td>4.153</td>\n",
       "      <td>0.000</td>\n",
       "      <td>0.023</td>\n",
       "      <td>0.065</td>\n",
       "    </tr>\n",
       "    <tr>\n",
       "      <th>26</th>\n",
       "      <td>EnvironmentSatisfaction</td>\n",
       "      <td>-0.4271</td>\n",
       "      <td>0.082</td>\n",
       "      <td>-5.188</td>\n",
       "      <td>0.000</td>\n",
       "      <td>-0.588</td>\n",
       "      <td>-0.266</td>\n",
       "    </tr>\n",
       "    <tr>\n",
       "      <th>28</th>\n",
       "      <td>JobInvolvement</td>\n",
       "      <td>-0.5497</td>\n",
       "      <td>0.122</td>\n",
       "      <td>-4.517</td>\n",
       "      <td>0.000</td>\n",
       "      <td>-0.788</td>\n",
       "      <td>-0.311</td>\n",
       "    </tr>\n",
       "    <tr>\n",
       "      <th>29</th>\n",
       "      <td>JobSatisfaction</td>\n",
       "      <td>-0.3964</td>\n",
       "      <td>0.081</td>\n",
       "      <td>-4.924</td>\n",
       "      <td>0.000</td>\n",
       "      <td>-0.554</td>\n",
       "      <td>-0.239</td>\n",
       "    </tr>\n",
       "    <tr>\n",
       "      <th>32</th>\n",
       "      <td>NumCompaniesWorked</td>\n",
       "      <td>0.1897</td>\n",
       "      <td>0.040</td>\n",
       "      <td>4.781</td>\n",
       "      <td>0.000</td>\n",
       "      <td>0.112</td>\n",
       "      <td>0.268</td>\n",
       "    </tr>\n",
       "    <tr>\n",
       "      <th>35</th>\n",
       "      <td>RelationshipSatisfaction</td>\n",
       "      <td>-0.2517</td>\n",
       "      <td>0.082</td>\n",
       "      <td>-3.064</td>\n",
       "      <td>0.002</td>\n",
       "      <td>-0.413</td>\n",
       "      <td>-0.091</td>\n",
       "    </tr>\n",
       "    <tr>\n",
       "      <th>37</th>\n",
       "      <td>TotalWorkingYears</td>\n",
       "      <td>-0.0618</td>\n",
       "      <td>0.027</td>\n",
       "      <td>-2.260</td>\n",
       "      <td>0.024</td>\n",
       "      <td>-0.115</td>\n",
       "      <td>-0.008</td>\n",
       "    </tr>\n",
       "    <tr>\n",
       "      <th>38</th>\n",
       "      <td>TrainingTimesLastYear</td>\n",
       "      <td>-0.1695</td>\n",
       "      <td>0.083</td>\n",
       "      <td>-2.046</td>\n",
       "      <td>0.041</td>\n",
       "      <td>-0.332</td>\n",
       "      <td>-0.007</td>\n",
       "    </tr>\n",
       "    <tr>\n",
       "      <th>39</th>\n",
       "      <td>WorkLifeBalance</td>\n",
       "      <td>-0.3799</td>\n",
       "      <td>0.123</td>\n",
       "      <td>-3.080</td>\n",
       "      <td>0.002</td>\n",
       "      <td>-0.622</td>\n",
       "      <td>-0.138</td>\n",
       "    </tr>\n",
       "    <tr>\n",
       "      <th>40</th>\n",
       "      <td>YearsInCurrentRole</td>\n",
       "      <td>-0.1207</td>\n",
       "      <td>0.045</td>\n",
       "      <td>-2.674</td>\n",
       "      <td>0.007</td>\n",
       "      <td>-0.209</td>\n",
       "      <td>-0.032</td>\n",
       "    </tr>\n",
       "    <tr>\n",
       "      <th>41</th>\n",
       "      <td>YearsSinceLastPromotion</td>\n",
       "      <td>0.2203</td>\n",
       "      <td>0.047</td>\n",
       "      <td>4.732</td>\n",
       "      <td>0.000</td>\n",
       "      <td>0.129</td>\n",
       "      <td>0.312</td>\n",
       "    </tr>\n",
       "  </tbody>\n",
       "</table>\n",
       "</div>"
      ],
      "text/plain": [
       "                             Unnamed: 0    coef  std err       z  P>|z|  \\\n",
       "1   BusinessTravel[T.Travel_Frequently]  1.8964    0.413   4.596  0.000   \n",
       "2       BusinessTravel[T.Travel_Rarely]  1.0033    0.380   2.640  0.008   \n",
       "10                       Gender[T.Male]  0.4108    0.184   2.231  0.026   \n",
       "12     JobRole[T.Laboratory Technician]  1.5644    0.471   3.323  0.001   \n",
       "20              MaritalStatus[T.Single]  1.0913    0.343   3.186  0.001   \n",
       "21                      OverTime[T.Yes]  1.9807    0.193  10.255  0.000   \n",
       "22                                  Age -0.0291    0.013  -2.175  0.030   \n",
       "24                     DistanceFromHome  0.0444    0.011   4.153  0.000   \n",
       "26              EnvironmentSatisfaction -0.4271    0.082  -5.188  0.000   \n",
       "28                       JobInvolvement -0.5497    0.122  -4.517  0.000   \n",
       "29                      JobSatisfaction -0.3964    0.081  -4.924  0.000   \n",
       "32                   NumCompaniesWorked  0.1897    0.040   4.781  0.000   \n",
       "35             RelationshipSatisfaction -0.2517    0.082  -3.064  0.002   \n",
       "37                    TotalWorkingYears -0.0618    0.027  -2.260  0.024   \n",
       "38                TrainingTimesLastYear -0.1695    0.083  -2.046  0.041   \n",
       "39                      WorkLifeBalance -0.3799    0.123  -3.080  0.002   \n",
       "40                   YearsInCurrentRole -0.1207    0.045  -2.674  0.007   \n",
       "41              YearsSinceLastPromotion  0.2203    0.047   4.732  0.000   \n",
       "\n",
       "    [0.025  0.975]  \n",
       "1    1.088   2.705  \n",
       "2    0.258   1.748  \n",
       "10   0.050   0.772  \n",
       "12   0.642   2.487  \n",
       "20   0.420   1.763  \n",
       "21   1.602   2.359  \n",
       "22  -0.055  -0.003  \n",
       "24   0.023   0.065  \n",
       "26  -0.588  -0.266  \n",
       "28  -0.788  -0.311  \n",
       "29  -0.554  -0.239  \n",
       "32   0.112   0.268  \n",
       "35  -0.413  -0.091  \n",
       "37  -0.115  -0.008  \n",
       "38  -0.332  -0.007  \n",
       "39  -0.622  -0.138  \n",
       "40  -0.209  -0.032  \n",
       "41   0.129   0.312  "
      ]
     },
     "execution_count": 33,
     "metadata": {},
     "output_type": "execute_result"
    }
   ],
   "source": [
    "log_summary=pd.read_html(logit1.summary().tables[1].as_html(),header=0)[0]\n",
    "log_summary[log_summary[\"P>|z|\"]<0.05]##here are vairables that are signidicant that affect an employee churn \n",
    "# if we state alpha 0.05"
   ]
  },
  {
   "cell_type": "code",
   "execution_count": 34,
   "metadata": {},
   "outputs": [
    {
     "data": {
      "text/html": [
       "<div>\n",
       "<style scoped>\n",
       "    .dataframe tbody tr th:only-of-type {\n",
       "        vertical-align: middle;\n",
       "    }\n",
       "\n",
       "    .dataframe tbody tr th {\n",
       "        vertical-align: top;\n",
       "    }\n",
       "\n",
       "    .dataframe thead th {\n",
       "        text-align: right;\n",
       "    }\n",
       "</style>\n",
       "<table border=\"1\" class=\"dataframe\">\n",
       "  <thead>\n",
       "    <tr style=\"text-align: right;\">\n",
       "      <th></th>\n",
       "      <th>Parameter</th>\n",
       "      <th>dy/dx</th>\n",
       "      <th>std err</th>\n",
       "      <th>z</th>\n",
       "      <th>P&gt;|z|</th>\n",
       "      <th>[0.025</th>\n",
       "      <th>0.975]</th>\n",
       "    </tr>\n",
       "  </thead>\n",
       "  <tbody>\n",
       "    <tr>\n",
       "      <th>0</th>\n",
       "      <td>BusinessTravel[T.Travel_Frequently]</td>\n",
       "      <td>0.1714</td>\n",
       "      <td>0.036</td>\n",
       "      <td>4.695</td>\n",
       "      <td>0.000</td>\n",
       "      <td>0.100</td>\n",
       "      <td>0.243</td>\n",
       "    </tr>\n",
       "    <tr>\n",
       "      <th>1</th>\n",
       "      <td>BusinessTravel[T.Travel_Rarely]</td>\n",
       "      <td>0.0907</td>\n",
       "      <td>0.034</td>\n",
       "      <td>2.657</td>\n",
       "      <td>0.008</td>\n",
       "      <td>0.024</td>\n",
       "      <td>0.158</td>\n",
       "    </tr>\n",
       "    <tr>\n",
       "      <th>9</th>\n",
       "      <td>Gender[T.Male]</td>\n",
       "      <td>0.0371</td>\n",
       "      <td>0.017</td>\n",
       "      <td>2.243</td>\n",
       "      <td>0.025</td>\n",
       "      <td>0.005</td>\n",
       "      <td>0.070</td>\n",
       "    </tr>\n",
       "    <tr>\n",
       "      <th>11</th>\n",
       "      <td>JobRole[T.Laboratory Technician]</td>\n",
       "      <td>0.1414</td>\n",
       "      <td>0.042</td>\n",
       "      <td>3.363</td>\n",
       "      <td>0.001</td>\n",
       "      <td>0.059</td>\n",
       "      <td>0.224</td>\n",
       "    </tr>\n",
       "    <tr>\n",
       "      <th>19</th>\n",
       "      <td>MaritalStatus[T.Single]</td>\n",
       "      <td>0.0986</td>\n",
       "      <td>0.031</td>\n",
       "      <td>3.225</td>\n",
       "      <td>0.001</td>\n",
       "      <td>0.039</td>\n",
       "      <td>0.159</td>\n",
       "    </tr>\n",
       "    <tr>\n",
       "      <th>20</th>\n",
       "      <td>OverTime[T.Yes]</td>\n",
       "      <td>0.1790</td>\n",
       "      <td>0.015</td>\n",
       "      <td>11.787</td>\n",
       "      <td>0.000</td>\n",
       "      <td>0.149</td>\n",
       "      <td>0.209</td>\n",
       "    </tr>\n",
       "    <tr>\n",
       "      <th>21</th>\n",
       "      <td>Age</td>\n",
       "      <td>-0.0026</td>\n",
       "      <td>0.001</td>\n",
       "      <td>-2.188</td>\n",
       "      <td>0.029</td>\n",
       "      <td>-0.005</td>\n",
       "      <td>-0.000</td>\n",
       "    </tr>\n",
       "    <tr>\n",
       "      <th>23</th>\n",
       "      <td>DistanceFromHome</td>\n",
       "      <td>0.0040</td>\n",
       "      <td>0.001</td>\n",
       "      <td>4.230</td>\n",
       "      <td>0.000</td>\n",
       "      <td>0.002</td>\n",
       "      <td>0.006</td>\n",
       "    </tr>\n",
       "    <tr>\n",
       "      <th>25</th>\n",
       "      <td>EnvironmentSatisfaction</td>\n",
       "      <td>-0.0386</td>\n",
       "      <td>0.007</td>\n",
       "      <td>-5.357</td>\n",
       "      <td>0.000</td>\n",
       "      <td>-0.053</td>\n",
       "      <td>-0.024</td>\n",
       "    </tr>\n",
       "    <tr>\n",
       "      <th>27</th>\n",
       "      <td>JobInvolvement</td>\n",
       "      <td>-0.0497</td>\n",
       "      <td>0.011</td>\n",
       "      <td>-4.640</td>\n",
       "      <td>0.000</td>\n",
       "      <td>-0.071</td>\n",
       "      <td>-0.029</td>\n",
       "    </tr>\n",
       "    <tr>\n",
       "      <th>28</th>\n",
       "      <td>JobSatisfaction</td>\n",
       "      <td>-0.0358</td>\n",
       "      <td>0.007</td>\n",
       "      <td>-5.067</td>\n",
       "      <td>0.000</td>\n",
       "      <td>-0.050</td>\n",
       "      <td>-0.022</td>\n",
       "    </tr>\n",
       "    <tr>\n",
       "      <th>31</th>\n",
       "      <td>NumCompaniesWorked</td>\n",
       "      <td>0.0171</td>\n",
       "      <td>0.003</td>\n",
       "      <td>4.912</td>\n",
       "      <td>0.000</td>\n",
       "      <td>0.010</td>\n",
       "      <td>0.024</td>\n",
       "    </tr>\n",
       "    <tr>\n",
       "      <th>34</th>\n",
       "      <td>RelationshipSatisfaction</td>\n",
       "      <td>-0.0227</td>\n",
       "      <td>0.007</td>\n",
       "      <td>-3.098</td>\n",
       "      <td>0.002</td>\n",
       "      <td>-0.037</td>\n",
       "      <td>-0.008</td>\n",
       "    </tr>\n",
       "    <tr>\n",
       "      <th>36</th>\n",
       "      <td>TotalWorkingYears</td>\n",
       "      <td>-0.0056</td>\n",
       "      <td>0.002</td>\n",
       "      <td>-2.273</td>\n",
       "      <td>0.023</td>\n",
       "      <td>-0.010</td>\n",
       "      <td>-0.001</td>\n",
       "    </tr>\n",
       "    <tr>\n",
       "      <th>37</th>\n",
       "      <td>TrainingTimesLastYear</td>\n",
       "      <td>-0.0153</td>\n",
       "      <td>0.007</td>\n",
       "      <td>-2.056</td>\n",
       "      <td>0.040</td>\n",
       "      <td>-0.030</td>\n",
       "      <td>-0.001</td>\n",
       "    </tr>\n",
       "    <tr>\n",
       "      <th>38</th>\n",
       "      <td>WorkLifeBalance</td>\n",
       "      <td>-0.0343</td>\n",
       "      <td>0.011</td>\n",
       "      <td>-3.106</td>\n",
       "      <td>0.002</td>\n",
       "      <td>-0.056</td>\n",
       "      <td>-0.013</td>\n",
       "    </tr>\n",
       "    <tr>\n",
       "      <th>39</th>\n",
       "      <td>YearsInCurrentRole</td>\n",
       "      <td>-0.0109</td>\n",
       "      <td>0.004</td>\n",
       "      <td>-2.692</td>\n",
       "      <td>0.007</td>\n",
       "      <td>-0.019</td>\n",
       "      <td>-0.003</td>\n",
       "    </tr>\n",
       "    <tr>\n",
       "      <th>40</th>\n",
       "      <td>YearsSinceLastPromotion</td>\n",
       "      <td>0.0199</td>\n",
       "      <td>0.004</td>\n",
       "      <td>4.844</td>\n",
       "      <td>0.000</td>\n",
       "      <td>0.012</td>\n",
       "      <td>0.028</td>\n",
       "    </tr>\n",
       "  </tbody>\n",
       "</table>\n",
       "</div>"
      ],
      "text/plain": [
       "                              Parameter   dy/dx  std err       z  P>|z|  \\\n",
       "0   BusinessTravel[T.Travel_Frequently]  0.1714    0.036   4.695  0.000   \n",
       "1       BusinessTravel[T.Travel_Rarely]  0.0907    0.034   2.657  0.008   \n",
       "9                        Gender[T.Male]  0.0371    0.017   2.243  0.025   \n",
       "11     JobRole[T.Laboratory Technician]  0.1414    0.042   3.363  0.001   \n",
       "19              MaritalStatus[T.Single]  0.0986    0.031   3.225  0.001   \n",
       "20                      OverTime[T.Yes]  0.1790    0.015  11.787  0.000   \n",
       "21                                  Age -0.0026    0.001  -2.188  0.029   \n",
       "23                     DistanceFromHome  0.0040    0.001   4.230  0.000   \n",
       "25              EnvironmentSatisfaction -0.0386    0.007  -5.357  0.000   \n",
       "27                       JobInvolvement -0.0497    0.011  -4.640  0.000   \n",
       "28                      JobSatisfaction -0.0358    0.007  -5.067  0.000   \n",
       "31                   NumCompaniesWorked  0.0171    0.003   4.912  0.000   \n",
       "34             RelationshipSatisfaction -0.0227    0.007  -3.098  0.002   \n",
       "36                    TotalWorkingYears -0.0056    0.002  -2.273  0.023   \n",
       "37                TrainingTimesLastYear -0.0153    0.007  -2.056  0.040   \n",
       "38                      WorkLifeBalance -0.0343    0.011  -3.106  0.002   \n",
       "39                   YearsInCurrentRole -0.0109    0.004  -2.692  0.007   \n",
       "40              YearsSinceLastPromotion  0.0199    0.004   4.844  0.000   \n",
       "\n",
       "    [0.025  0.975]  \n",
       "0    0.100   0.243  \n",
       "1    0.024   0.158  \n",
       "9    0.005   0.070  \n",
       "11   0.059   0.224  \n",
       "19   0.039   0.159  \n",
       "20   0.149   0.209  \n",
       "21  -0.005  -0.000  \n",
       "23   0.002   0.006  \n",
       "25  -0.053  -0.024  \n",
       "27  -0.071  -0.029  \n",
       "28  -0.050  -0.022  \n",
       "31   0.010   0.024  \n",
       "34  -0.037  -0.008  \n",
       "36  -0.010  -0.001  \n",
       "37  -0.030  -0.001  \n",
       "38  -0.056  -0.013  \n",
       "39  -0.019  -0.003  \n",
       "40   0.012   0.028  "
      ]
     },
     "execution_count": 34,
     "metadata": {},
     "output_type": "execute_result"
    }
   ],
   "source": [
    "#we should calculate marginal effects to be able to interpret change of y variable\n",
    "logit1.get_margeff().summary()\n",
    "log_summary=pd.read_html(logit1.get_margeff().summary().tables[1].as_html(),header=0)[0]\n",
    "log_summary=log_summary.rename(columns={\"Unnamed: 0\":\"Parameter\"})##making summary as dataframe to manipulate easily\n",
    "log_summary[log_summary[\"P>|z|\"]<0.05]"
   ]
  },
  {
   "cell_type": "markdown",
   "metadata": {},
   "source": [
    " If p<=0.05,then there is a statistically significant relationship between affairs and corresponding variable.\n",
    " \n",
    "Interpreting for continuous variable. So, incremental  incraese in age will decrease the likelihood(probability) of being in Attrition group on average by 5%(0.0026*100%) if other factors held constant.\n",
    "\n",
    "For categgorical variables we say for example,being a male will increase probability of  being in Attrition group compared to females on on average by 5%(0.0371*100%) if other factors held constant.\n"
   ]
  },
  {
   "cell_type": "code",
   "execution_count": 35,
   "metadata": {},
   "outputs": [
    {
     "data": {
      "text/html": [
       "<div>\n",
       "<style scoped>\n",
       "    .dataframe tbody tr th:only-of-type {\n",
       "        vertical-align: middle;\n",
       "    }\n",
       "\n",
       "    .dataframe tbody tr th {\n",
       "        vertical-align: top;\n",
       "    }\n",
       "\n",
       "    .dataframe thead th {\n",
       "        text-align: right;\n",
       "    }\n",
       "</style>\n",
       "<table border=\"1\" class=\"dataframe\">\n",
       "  <thead>\n",
       "    <tr style=\"text-align: right;\">\n",
       "      <th></th>\n",
       "      <th>importances</th>\n",
       "    </tr>\n",
       "  </thead>\n",
       "  <tbody>\n",
       "    <tr>\n",
       "      <th>OverTime_Yes</th>\n",
       "      <td>0.308649</td>\n",
       "    </tr>\n",
       "    <tr>\n",
       "      <th>TotalWorkingYears</th>\n",
       "      <td>0.153284</td>\n",
       "    </tr>\n",
       "    <tr>\n",
       "      <th>JobLevel</th>\n",
       "      <td>0.125901</td>\n",
       "    </tr>\n",
       "    <tr>\n",
       "      <th>MonthlyIncome</th>\n",
       "      <td>0.082056</td>\n",
       "    </tr>\n",
       "    <tr>\n",
       "      <th>JobRole_Sales Executive</th>\n",
       "      <td>0.075464</td>\n",
       "    </tr>\n",
       "    <tr>\n",
       "      <th>StockOptionLevel</th>\n",
       "      <td>0.062805</td>\n",
       "    </tr>\n",
       "    <tr>\n",
       "      <th>JobSatisfaction</th>\n",
       "      <td>0.052906</td>\n",
       "    </tr>\n",
       "    <tr>\n",
       "      <th>YearsInCurrentRole</th>\n",
       "      <td>0.038450</td>\n",
       "    </tr>\n",
       "    <tr>\n",
       "      <th>Age</th>\n",
       "      <td>0.024675</td>\n",
       "    </tr>\n",
       "    <tr>\n",
       "      <th>TrainingTimesLastYear</th>\n",
       "      <td>0.023994</td>\n",
       "    </tr>\n",
       "    <tr>\n",
       "      <th>NumCompaniesWorked</th>\n",
       "      <td>0.022082</td>\n",
       "    </tr>\n",
       "    <tr>\n",
       "      <th>JobRole_Research Scientist</th>\n",
       "      <td>0.020789</td>\n",
       "    </tr>\n",
       "  </tbody>\n",
       "</table>\n",
       "</div>"
      ],
      "text/plain": [
       "                            importances\n",
       "OverTime_Yes                   0.308649\n",
       "TotalWorkingYears              0.153284\n",
       "JobLevel                       0.125901\n",
       "MonthlyIncome                  0.082056\n",
       "JobRole_Sales Executive        0.075464\n",
       "StockOptionLevel               0.062805\n",
       "JobSatisfaction                0.052906\n",
       "YearsInCurrentRole             0.038450\n",
       "Age                            0.024675\n",
       "TrainingTimesLastYear          0.023994\n",
       "NumCompaniesWorked             0.022082\n",
       "JobRole_Research Scientist     0.020789"
      ]
     },
     "execution_count": 35,
     "metadata": {},
     "output_type": "execute_result"
    }
   ],
   "source": [
    "importances=tree.feature_importances_\n",
    "importances=pd.DataFrame(data=importances, index=X3.columns, columns=['importances']).sort_values(by=['importances'],ascending=False)\n",
    "importances[:12]"
   ]
  },
  {
   "cell_type": "markdown",
   "metadata": {},
   "source": [
    "Here are important features for decision tree classifier"
   ]
  },
  {
   "cell_type": "code",
   "execution_count": 46,
   "metadata": {},
   "outputs": [
    {
     "name": "stdout",
     "output_type": "stream",
     "text": [
      "{'max_depth': 28, 'min_samples_leaf': 40, 'n_estimators': 4}\n",
      "Train score is 0.5736743406615329 and Test score is0.5751675710181934\n",
      "cross_validation score is 0.5766215546695392\n",
      "              precision    recall  f1-score   support\n",
      "\n",
      "           0       0.80      0.53      0.64      8814\n",
      "           1       0.38      0.68      0.49      3718\n",
      "\n",
      "   micro avg       0.58      0.58      0.58     12532\n",
      "   macro avg       0.59      0.61      0.56     12532\n",
      "weighted avg       0.67      0.58      0.59     12532\n",
      "\n",
      "roc_auc: for test is 0.6063874858973566\n",
      "roc_auc: for train is 0.6052468670229447\n",
      "average Roc_score is 0.6330316266708871\n",
      "recall for train 0.6828940290478752\n",
      "recall for test 0.6831629908552985\n"
     ]
    }
   ],
   "source": [
    "data3=df_num.join(df_dummies)##corrected dataframe is different from corrected1 it include correleted variables\n",
    "Y3=data3.sold_Yes\n",
    "X3=data3.drop(\"sold_Yes\",axis=1)\n",
    "grid4=GridSearchCV(RandomForestClassifier(random_state=42,class_weight=\"balanced\"),\n",
    "             param_grid={\"max_depth\":range(10,30),\n",
    "                         \"min_samples_leaf\":range(40,50,10),\n",
    "                       \"n_estimators\":range(2,5)  },scoring=\"roc_auc\",cv=5,n_jobs=-1).fit(X3,Y3)\n",
    "params=list(grid4.best_params_.values())\n",
    "depth,leafs,n_estimators=params\n",
    "x_train,x_test,y_train,y_test=train_test_split(X3,Y3,test_size=0.2,random_state=42,stratify=Y3)\n",
    "forest=RandomForestClassifier(random_state=42,class_weight=\"balanced\",max_depth=depth,min_samples_leaf=leafs,n_estimators=n_estimators).fit(x_train,y_train)\n",
    "train_score=forest.score(x_train,y_train)\n",
    "test_score=forest.score(x_test,y_test)\n",
    "print(grid4.best_params_)\n",
    "print(\"Train score is %s and Test score is%s\"%(train_score,test_score))\n",
    "print(\"cross_validation score is %s\"% (np.mean(cross_val_score(RandomForestClassifier(random_state=42,class_weight=\"balanced\",max_depth=depth,min_samples_leaf=leafs,n_estimators=n_estimators),X3,Y3,cv=5))))\n",
    "y_pred=forest.predict(x_test)\n",
    "y_pred2=forest.predict(x_train)\n",
    "print(classification_report(y_test,forest.predict(x_test)))\n",
    "print(\"roc_auc: for test is\",roc_auc_score(y_test,y_pred))\n",
    "print(\"roc_auc: for train is\",roc_auc_score(y_train,y_pred2))\n",
    "print(\"average Roc_score is\",grid4.best_score_)\n",
    "print(\"recall for train\",recall_score(y_train,y_pred2))\n",
    "print(\"recall for test\",recall_score(y_test,y_pred))"
   ]
  },
  {
   "cell_type": "code",
   "execution_count": 48,
   "metadata": {},
   "outputs": [
    {
     "data": {
      "text/plain": [
       "0.5736743406615329"
      ]
     },
     "execution_count": 48,
     "metadata": {},
     "output_type": "execute_result"
    }
   ],
   "source": [
    "from sklearn.metrics import accuracy_score\n",
    "accuracy_score(y_train,y_pred2)"
   ]
  },
  {
   "cell_type": "code",
   "execution_count": 41,
   "metadata": {},
   "outputs": [
    {
     "data": {
      "image/png": "[encoded data removed]",
      "text/plain": [
       "<Figure size 432x288 with 1 Axes>"
      ]
     },
     "metadata": {
      "needs_background": "light"
     },
     "output_type": "display_data"
    }
   ],
   "source": [
    "#ROC curve\n",
    "FPR,TPR,tresholds=roc_curve(y_test,tree.predict_proba(x_test)[:,1])\n",
    "plt.plot(FPR,TPR,label=\"ROC AUC=%f\"%roc_auc_score(y_test,y_pred))\n",
    "plt.plot([0,1],[0,1])\n",
    "plt.legend(loc=\"lower right\")\n",
    "plt.xlabel(\"FPR\")\n",
    "plt.ylabel(\"TPR\")\n",
    "plt.show()"
   ]
  },
  {
   "cell_type": "code",
   "execution_count": 60,
   "metadata": {},
   "outputs": [
    {
     "data": {
      "text/plain": [
       "array(['Mechanical', 'Automatic', 'Robot', 'Variator:'], dtype=object)"
      ]
     },
     "execution_count": 60,
     "metadata": {},
     "output_type": "execute_result"
    }
   ],
   "source": [
    "data.Gearbox.unique()"
   ]
  },
  {
   "cell_type": "code",
   "execution_count": 58,
   "metadata": {},
   "outputs": [
    {
     "data": {
      "text/plain": [
       "array(['Petrol', 'Astragalus', 'Diesel', 'Hybrid:', 'Electricity'],\n",
       "      dtype=object)"
      ]
     },
     "execution_count": 58,
     "metadata": {},
     "output_type": "execute_result"
    }
   ],
   "source": [
    "data.Engine.unique()"
   ]
  },
  {
   "cell_type": "code",
   "execution_count": 88,
   "metadata": {},
   "outputs": [],
   "source": [
    "data2=[{\"brand\":\"Lexus\",\"model\":\"RX 350 \",\"price\":20000,\"year\":2011,\"Color\":\"White\",\"Hand_Drive\":\"Left\",\"Engine\":\"Astragalus\",\n",
    "            \"Mileage\":100000,\"Gearbox\":\"Automatic\"}]\n",
    "z=pd.DataFrame(data2)"
   ]
  },
  {
   "cell_type": "code",
   "execution_count": 96,
   "metadata": {},
   "outputs": [
    {
     "data": {
      "text/html": [
       "<div>\n",
       "<style scoped>\n",
       "    .dataframe tbody tr th:only-of-type {\n",
       "        vertical-align: middle;\n",
       "    }\n",
       "\n",
       "    .dataframe tbody tr th {\n",
       "        vertical-align: top;\n",
       "    }\n",
       "\n",
       "    .dataframe thead th {\n",
       "        text-align: right;\n",
       "    }\n",
       "</style>\n",
       "<table border=\"1\" class=\"dataframe\">\n",
       "  <thead>\n",
       "    <tr style=\"text-align: right;\">\n",
       "      <th></th>\n",
       "      <th>Color</th>\n",
       "      <th>Engine</th>\n",
       "      <th>Gearbox</th>\n",
       "      <th>Hand_Drive</th>\n",
       "      <th>Mileage</th>\n",
       "      <th>brand</th>\n",
       "      <th>model</th>\n",
       "      <th>price</th>\n",
       "      <th>year</th>\n",
       "    </tr>\n",
       "  </thead>\n",
       "  <tbody>\n",
       "    <tr>\n",
       "      <th>0</th>\n",
       "      <td>White</td>\n",
       "      <td>Astragalus</td>\n",
       "      <td>Automatic</td>\n",
       "      <td>Left</td>\n",
       "      <td>100000</td>\n",
       "      <td>Lexus</td>\n",
       "      <td>RX 350</td>\n",
       "      <td>20000</td>\n",
       "      <td>2011</td>\n",
       "    </tr>\n",
       "  </tbody>\n",
       "</table>\n",
       "</div>"
      ],
      "text/plain": [
       "   Color      Engine    Gearbox Hand_Drive  Mileage  brand    model  price  \\\n",
       "0  White  Astragalus  Automatic       Left   100000  Lexus  RX 350   20000   \n",
       "\n",
       "   year  \n",
       "0  2011  "
      ]
     },
     "execution_count": 96,
     "metadata": {},
     "output_type": "execute_result"
    }
   ],
   "source": []
  },
  {
   "cell_type": "code",
   "execution_count": 99,
   "metadata": {},
   "outputs": [
    {
     "data": {
      "text/plain": [
       "array([0.0001   , 0.0417625, 0.083425 , 0.1250875, 0.16675  , 0.2084125,\n",
       "       0.250075 , 0.2917375, 0.3334   , 0.3750625, 0.416725 , 0.4583875,\n",
       "       0.50005  , 0.5417125, 0.583375 , 0.6250375, 0.6667   , 0.7083625,\n",
       "       0.750025 , 0.7916875, 0.83335  , 0.8750125, 0.916675 , 0.9583375,\n",
       "       1.       ])"
      ]
     },
     "execution_count": 99,
     "metadata": {},
     "output_type": "execute_result"
    }
   ],
   "source": [
    "np.set_printoptions(suppress=True)\n",
    "np.linspace(0.0001,1,25)"
   ]
  },
  {
   "cell_type": "code",
   "execution_count": null,
   "metadata": {},
   "outputs": [],
   "source": []
  }
 ],
 "metadata": {
  "kernelspec": {
   "display_name": "Python 3",
   "language": "python",
   "name": "python3"
  },
  "language_info": {
   "codemirror_mode": {
    "name": "ipython",
    "version": 3
   },
   "file_extension": ".py",
   "mimetype": "text/x-python",
   "name": "python",
   "nbconvert_exporter": "python",
   "pygments_lexer": "ipython3",
   "version": "3.7.1"
  }
 },
 "nbformat": 4,
 "nbformat_minor": 2
}
