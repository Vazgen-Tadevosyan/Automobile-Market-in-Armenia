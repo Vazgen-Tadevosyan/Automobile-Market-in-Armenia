{
 "cells": [
  {
   "cell_type": "code",
   "execution_count": 53,
   "metadata": {},
   "outputs": [],
   "source": [
    "import numpy as np\n",
    "import pandas as pd\n",
    "import matplotlib.pyplot as plt\n",
    "import seaborn as sns\n",
    "from sklearn.tree import DecisionTreeClassifier\n",
    "from sklearn.model_selection import train_test_split\n",
    "from statsmodels.discrete.discrete_model import Logit \n",
    "from sklearn.tree import export_graphviz\n",
    "from sklearn.metrics import confusion_matrix, classification_report\n",
    "from sklearn.model_selection import GridSearchCV\n",
    "from  sklearn.metrics import recall_score\n",
    "from scipy import stats\n",
    "from sklearn.model_selection import  cross_val_score\n",
    "from sklearn.metrics import  confusion_matrix\n",
    "from sklearn.metrics import classification_report\n",
    "from sklearn.linear_model import  LogisticRegression\n",
    "from sklearn.metrics import roc_auc_score\n",
    "from sklearn.metrics import  roc_curve\n",
    "from sklearn.ensemble import  RandomForestClassifier\n",
    "from sklearn.ensemble import  GradientBoostingClassifier\n",
    "from sklearn.metrics import roc_auc_score\n",
    "from sklearn.metrics import  roc_curve,accuracy_score\n",
    "from sklearn.ensemble import  RandomForestClassifier\n",
    "from sklearn.ensemble import  GradientBoostingClassifier"
   ]
  },
  {
   "cell_type": "code",
   "execution_count": 54,
   "metadata": {},
   "outputs": [],
   "source": [
    "data=pd.read_csv(\"final2.csv\")\n",
    "data.drop(columns=data.columns[data.isna().any()].tolist(),inplace=True)\n",
    "data.drop(columns=['id_val','date'],inplace=True)\n",
    "data['model']=data[\"brand\"]+\"_\"+data[\"model\"]\n",
    "data.drop(columns=\"brand\",inplace=True)"
   ]
  },
  {
   "cell_type": "code",
   "execution_count": 55,
   "metadata": {},
   "outputs": [
    {
     "data": {
      "image/png": "[encoded data removed]",
      "text/plain": [
       "<Figure size 432x288 with 1 Axes>"
      ]
     },
     "metadata": {
      "needs_background": "light"
     },
     "output_type": "display_data"
    },
    {
     "name": "stdout",
     "output_type": "stream",
     "text": [
      "No     70.331775\n",
      "Yes    29.668225\n",
      "Name: sold, dtype: float64\n"
     ]
    }
   ],
   "source": [
    "sns.countplot(x=\"sold\",data=data)\n",
    "plt.title(\"Distribution of cars by sold status and Gender\")\n",
    "plt.show()\n",
    "#let's see percenatage of customers who didn't subscribe to term deposit,\n",
    "#and percenatage of customers who subscribed to term deposit\n",
    "print(data.sold.value_counts()/len(data)*100)\n",
    "\n",
    "#### <p1>as we see our benchmark is about 84 percent our model should predict more precisely</p1>\n",
    "\n",
    "df_num=data.select_dtypes(exclude=\"object\")## we divide data in this groups to check variance, \n",
    "df_object=data.select_dtypes(include=\"object\")"
   ]
  },
  {
   "cell_type": "code",
   "execution_count": 56,
   "metadata": {},
   "outputs": [],
   "source": [
    "### lets create dummies from object variables and final data\n",
    "df_dummies=pd.get_dummies(df_object,prefix=df_object.columns,drop_first=True)\n",
    "data1=df_num.join(df_dummies)\n",
    "Y1=data1.sold_Yes\n",
    "X1=data1.drop(\"sold_Yes\",axis=1)\n",
    "grid1=GridSearchCV(LogisticRegression(solver='liblinear',random_state=42,class_weight=\"balanced\"),param_grid={\"C\":np.linspace(0.0001,1,20),\"penalty\":\n",
    "                                                                                                [\"l1\",\"l2\"]},scoring=\"roc_auc\",cv=5,n_jobs=-1)\n",
    "import pickle\n",
    "\n",
    "with open(\"test.txt\", \"wb\") as fp:   #Pickling\n",
    "    pickle.dump(X1.columns, fp)"
   ]
  },
  {
   "cell_type": "code",
   "execution_count": 57,
   "metadata": {},
   "outputs": [
    {
     "data": {
      "text/plain": [
       "GridSearchCV(cv=5, error_score='raise-deprecating',\n",
       "       estimator=LogisticRegression(C=1.0, class_weight='balanced', dual=False,\n",
       "          fit_intercept=True, intercept_scaling=1, max_iter=100,\n",
       "          multi_class='warn', n_jobs=None, penalty='l2', random_state=42,\n",
       "          solver='liblinear', tol=0.0001, verbose=0, warm_start=False),\n",
       "       fit_params=None, iid='warn', n_jobs=-1,\n",
       "       param_grid={'C': array([1.00000e-04, 5.27263e-02, 1.05353e-01, 1.57979e-01, 2.10605e-01,\n",
       "       2.63232e-01, 3.15858e-01, 3.68484e-01, 4.21111e-01, 4.73737e-01,\n",
       "       5.26363e-01, 5.78989e-01, 6.31616e-01, 6.84242e-01, 7.36868e-01,\n",
       "       7.89495e-01, 8.42121e-01, 8.94747e-01, 9.47374e-01, 1.00000e+00]), 'penalty': ['l1', 'l2']},\n",
       "       pre_dispatch='2*n_jobs', refit=True, return_train_score='warn',\n",
       "       scoring='roc_auc', verbose=0)"
      ]
     },
     "execution_count": 57,
     "metadata": {},
     "output_type": "execute_result"
    }
   ],
   "source": [
    "grid1.fit(X1,Y1)"
   ]
  },
  {
   "cell_type": "code",
   "execution_count": 58,
   "metadata": {
    "scrolled": true
   },
   "outputs": [
    {
     "name": "stdout",
     "output_type": "stream",
     "text": [
      "{'C': 0.4211105263157895, 'penalty': 'l1'}\n",
      "Train score is 0.6405089501947434 and Test score is0.6473656998788986\n",
      "              precision    recall  f1-score   support\n",
      "\n",
      "           0       0.80      0.55      0.65      8815\n",
      "           1       0.39      0.67      0.49      3718\n",
      "\n",
      "   micro avg       0.59      0.59      0.59     12533\n",
      "   macro avg       0.59      0.61      0.57     12533\n",
      "weighted avg       0.68      0.59      0.61     12533\n",
      "\n",
      "roc_auc: for test is 0.6039828316018376\n",
      "roc_auc: for train is 0.6043408107772982\n",
      "average Roc_score is 0.629825266537286\n",
      "recall for train 0.6593155382236267\n",
      "recall for test 0.657880580957504\n",
      "Overall Accuracy score is  0.5820633527487433\n"
     ]
    }
   ],
   "source": [
    "x_train,x_test,y_train,y_test=train_test_split(X1,Y1,test_size=0.2,random_state=42,stratify=Y1)\n",
    "params=list(grid1.best_params_.values())\n",
    "C,Penalty=params\n",
    "\n",
    "logit1=LogisticRegression(solver='liblinear',random_state=42,C=C,penalty=Penalty,class_weight='balanced').fit(x_train,y_train)\n",
    "train_score=grid1.score(x_train,y_train)\n",
    "test_score=grid1.score(x_test,y_test)\n",
    "print(grid1.best_params_)\n",
    "print(\"Train score is %s and Test score is%s\"%(train_score,test_score))\n",
    "#print(\"cross_validation score is %s\"% (np.mean(cross_val_score(LogisticRegression(random_state=42,C=C,penalty=Penalty,class_weight='balanced',solver='liblinear'),X1,Y1,cv=5))))\n",
    "y_pred=logit1.predict(x_test)\n",
    "y_pred2=logit1.predict(x_train)\n",
    "print(classification_report(y_test,grid1.predict(x_test)))\n",
    "print(\"roc_auc: for test is\",roc_auc_score(y_test,y_pred))\n",
    "print(\"roc_auc: for train is\",roc_auc_score(y_train,y_pred2))\n",
    "print(\"average Roc_score is\",grid1.best_score_)\n",
    "print(\"recall for train\",recall_score(y_train,y_pred2))\n",
    "print(\"recall for test\",recall_score(y_test,y_pred))\n",
    "print(\"Overall Accuracy score is \",accuracy_score(y_test,y_pred))"
   ]
  },
  {
   "cell_type": "code",
   "execution_count": 59,
   "metadata": {},
   "outputs": [
    {
     "name": "stdout",
     "output_type": "stream",
     "text": [
      "{'C': 0.4211105263157895, 'penalty': 'l1'}\n",
      "Train score is 0.6405089501947434 and Test score is0.6473656998788986\n"
     ]
    },
    {
     "data": {
      "text/markdown": [
       "<strong> &emsp;&emsp;&emsp;&emsp;&emsp;&emsp;&emsp;&emsp;&emsp;&emsp;&emsp;&emsp;CLASSIFICATION REPORT</strong>"
      ],
      "text/plain": [
       "<IPython.core.display.Markdown object>"
      ]
     },
     "metadata": {},
     "output_type": "display_data"
    },
    {
     "name": "stdout",
     "output_type": "stream",
     "text": [
      "              precision    recall  f1-score   support\n",
      "\n",
      "           0       0.80      0.55      0.65      8815\n",
      "           1       0.39      0.67      0.49      3718\n",
      "\n",
      "   micro avg       0.59      0.59      0.59     12533\n",
      "   macro avg       0.59      0.61      0.57     12533\n",
      "weighted avg       0.68      0.59      0.61     12533\n",
      "\n",
      "Overall Accuracy score is  0.5820633527487433\n"
     ]
    },
    {
     "data": {
      "image/png": "[encoded data removed]",
      "text/plain": [
       "<Figure size 432x288 with 1 Axes>"
      ]
     },
     "metadata": {
      "needs_background": "light"
     },
     "output_type": "display_data"
    }
   ],
   "source": [
    "x_train,x_test,y_train,y_test=train_test_split(X1,Y1,test_size=0.2,random_state=42,stratify=Y1)\n",
    "params=list(grid1.best_params_.values())\n",
    "C,Penalty=params\n",
    "\n",
    "logit1=LogisticRegression(solver='liblinear',random_state=42,C=C,penalty=Penalty,class_weight='balanced').fit(x_train,y_train)\n",
    "train_score=grid1.score(x_train,y_train)\n",
    "test_score=grid1.score(x_test,y_test)\n",
    "print(grid1.best_params_)\n",
    "print(\"Train score is %s and Test score is%s\"%(train_score,test_score))\n",
    "#print(\"cross_validation score is %s\"% (np.mean(cross_val_score(LogisticRegression(random_state=42,C=C,penalty=Penalty,class_weight='balanced',solver='liblinear'),X1,Y1,cv=5))))\n",
    "y_pred=logit1.predict(x_test)\n",
    "y_pred2=logit1.predict(x_train)\n",
    "display(Markdown(\"<strong> &emsp;&emsp;&emsp;&emsp;&emsp;&emsp;&emsp;&emsp;&emsp;&emsp;&emsp;&emsp;CLASSIFICATION REPORT</strong>\" ))\n",
    "\n",
    "print(classification_report(y_test,grid1.predict(x_test)))\n",
    "\n",
    "print(\"Overall Accuracy score is \",accuracy_score(y_test,y_pred))\n",
    "#ROC curve\n",
    "FPR,TPR,tresholds=roc_curve(y_test,grid1.predict_proba(x_test)[:,1])\n",
    "plt.plot(FPR,TPR,label=\"ROC AUC=%f\"%roc_auc_score(y_test,y_pred))\n",
    "plt.title(\"ROC Curve\")\n",
    "plt.plot([0,1],[0,1])\n",
    "plt.legend(loc=\"lower right\")\n",
    "plt.xlabel(\"FPR\")\n",
    "plt.ylabel(\"TPR\")\n",
    "plt.show()"
   ]
  },
  {
   "cell_type": "code",
   "execution_count": 60,
   "metadata": {},
   "outputs": [
    {
     "data": {
      "image/png": "[encoded data removed]",
      "text/plain": [
       "<Figure size 432x288 with 1 Axes>"
      ]
     },
     "metadata": {
      "needs_background": "light"
     },
     "output_type": "display_data"
    }
   ],
   "source": [
    "#ROC curve\n",
    "FPR,TPR,tresholds=roc_curve(y_test,grid1.predict_proba(x_test)[:,1])\n",
    "plt.plot(FPR,TPR,label=\"ROC AUC=%f\"%roc_auc_score(y_test,y_pred))\n",
    "plt.plot([0,1],[0,1])\n",
    "plt.legend(loc=\"lower right\")\n",
    "plt.xlabel(\"FPR\")\n",
    "plt.ylabel(\"TPR\")\n",
    "plt.show()"
   ]
  },
  {
   "cell_type": "code",
   "execution_count": 28,
   "metadata": {},
   "outputs": [],
   "source": [
    "from joblib import dump, load\n",
    "dump(grid1, 'logit.joblib') \n",
    "clf = load('logit.joblib')"
   ]
  },
  {
   "cell_type": "code",
   "execution_count": 29,
   "metadata": {},
   "outputs": [],
   "source": [
    "import pickle\n",
    "with open('mylist', 'wb') as f:\n",
    "    pickle.dump(X1.columns, f)"
   ]
  },
  {
   "cell_type": "code",
   "execution_count": 30,
   "metadata": {},
   "outputs": [],
   "source": [
    "with open(\"mylist\", \"rb\") as fp:   # Unpickling\n",
    "    b = pickle.load(fp)"
   ]
  },
  {
   "cell_type": "code",
   "execution_count": 64,
   "metadata": {},
   "outputs": [],
   "source": [
    "def predict(new):\n",
    "    from joblib import dump, load\n",
    "    clf = load('logit.joblib')\n",
    "    import pickle\n",
    "    with open(\"mylist\", \"rb\") as fp:   # Unpickling\n",
    "        b = pickle.load(fp)\n",
    "    #new=data[:1]\n",
    "    #new.drop(columns=\"sold\",inplace=True)\n",
    "    df_num=new.select_dtypes(exclude=\"object\")## we divide data in this groups to check variance, \n",
    "    df_object=new.select_dtypes(include=\"object\")\n",
    "    #print(df_object)\n",
    "    ## lets create dummies from object variables and final data\n",
    "    df_dummies=pd.get_dummies(df_object,prefix=df_object.columns,drop_first=False)\n",
    "    new=df_num.join(df_dummies)\n",
    "    for i in b:\n",
    "        if i not in new.columns:\n",
    "            new[i]=0\n",
    "    for i in new.columns:\n",
    "        if i not in b:\n",
    "            del new[i]\n",
    "    class_,probability= clf.predict(new)[0],clf.predict_proba(new)[0][1]\n",
    "    if class_==0:\n",
    "        class_=\"unsold\"\n",
    "    else:\n",
    "        class_=\"sold\"\n",
    "    \n",
    "    print(\"The probability of the car to be sold is {}, so it is predicted as {} \".format(probability,class_) )\n",
    "    return class_,probability\n",
    "   "
   ]
  },
  {
   "cell_type": "code",
   "execution_count": 8,
   "metadata": {},
   "outputs": [
    {
     "data": {
      "text/markdown": [
       "**bold text**"
      ],
      "text/plain": [
       "<IPython.core.display.Markdown object>"
      ]
     },
     "metadata": {},
     "output_type": "display_data"
    }
   ],
   "source": [
    "from IPython.display import Markdown, display\n",
    "def printmd(string):\n",
    "    display(Markdown(string))\n",
    "\n",
    "\n",
    "printmd(\"**bold text**\")"
   ]
  },
  {
   "cell_type": "code",
   "execution_count": 14,
   "metadata": {},
   "outputs": [
    {
     "data": {
      "text/markdown": [
       "**bold text**"
      ],
      "text/plain": [
       "<IPython.core.display.Markdown object>"
      ]
     },
     "metadata": {},
     "output_type": "display_data"
    }
   ],
   "source": [
    "printmd(           \"**bold text**\")"
   ]
  },
  {
   "cell_type": "code",
   "execution_count": 49,
   "metadata": {},
   "outputs": [
    {
     "data": {
      "text/markdown": [
       "<strong> &emsp;&emsp;&emsp;&emsp;&emsp;&emsp;&emsp;&emsp;&emsp;&emsp;&emsp;&emsp;&emsp;&emsp;CLASSIFICATION REPORT</strong>"
      ],
      "text/plain": [
       "<IPython.core.display.Markdown object>"
      ]
     },
     "metadata": {},
     "output_type": "display_data"
    }
   ],
   "source": [
    "display(Markdown(\"<strong> &emsp;&emsp;&emsp;&emsp;&emsp;&emsp;&emsp;&emsp;&emsp;&emsp;&emsp;&emsp;&emsp;&emsp;CLASSIFICATION REPORT</strong>\" ))"
   ]
  },
  {
   "cell_type": "code",
   "execution_count": null,
   "metadata": {},
   "outputs": [],
   "source": []
  }
 ],
 "metadata": {
  "kernelspec": {
   "display_name": "Python 3",
   "language": "python",
   "name": "python3"
  },
  "language_info": {
   "codemirror_mode": {
    "name": "ipython",
    "version": 3
   },
   "file_extension": ".py",
   "mimetype": "text/x-python",
   "name": "python",
   "nbconvert_exporter": "python",
   "pygments_lexer": "ipython3",
   "version": "3.7.1"
  }
 },
 "nbformat": 4,
 "nbformat_minor": 2
}
